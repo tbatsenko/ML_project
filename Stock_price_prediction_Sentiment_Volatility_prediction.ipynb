{
  "nbformat": 4,
  "nbformat_minor": 0,
  "metadata": {
    "kernelspec": {
      "display_name": "Python 3",
      "language": "python",
      "name": "python3"
    },
    "language_info": {
      "codemirror_mode": {
        "name": "ipython",
        "version": 3
      },
      "file_extension": ".py",
      "mimetype": "text/x-python",
      "name": "python",
      "nbconvert_exporter": "python",
      "pygments_lexer": "ipython3",
      "version": "3.5.5"
    },
    "widgets": {
      "state": {},
      "version": "1.1.2"
    },
    "colab": {
      "name": "Stock_price_prediction_UA.ipynb",
      "version": "0.3.2",
      "provenance": [],
      "include_colab_link": true
    }
  },
  "cells": [
    {
      "cell_type": "markdown",
      "metadata": {
        "id": "view-in-github",
        "colab_type": "text"
      },
      "source": [
        "<a href=\"https://colab.research.google.com/github/tbatsenko/ML_project/blob/master/Stock_price_prediction_Sentiment_Volatility_prediction.ipynb\" target=\"_parent\"><img src=\"https://colab.research.google.com/assets/colab-badge.svg\" alt=\"Open In Colab\"/></a>"
      ]
    },
    {
      "cell_type": "code",
      "metadata": {
        "id": "HimgVjKcHB4v",
        "colab_type": "code",
        "colab": {
          "base_uri": "https://localhost:8080/",
          "height": 127
        },
        "outputId": "da638c1c-31b9-4949-bc1f-32802a531058"
      },
      "source": [
        "from google.colab import drive\n",
        "drive.mount('/content/drive')"
      ],
      "execution_count": 3,
      "outputs": [
        {
          "output_type": "stream",
          "text": [
            "Go to this URL in a browser: https://accounts.google.com/o/oauth2/auth?client_id=947318989803-6bn6qk8qdgf4n4g3pfee6491hc0brc4i.apps.googleusercontent.com&redirect_uri=urn%3Aietf%3Awg%3Aoauth%3A2.0%3Aoob&scope=email%20https%3A%2F%2Fwww.googleapis.com%2Fauth%2Fdocs.test%20https%3A%2F%2Fwww.googleapis.com%2Fauth%2Fdrive%20https%3A%2F%2Fwww.googleapis.com%2Fauth%2Fdrive.photos.readonly%20https%3A%2F%2Fwww.googleapis.com%2Fauth%2Fpeopleapi.readonly&response_type=code\n",
            "\n",
            "Enter your authorization code:\n",
            "··········\n",
            "Mounted at /content/drive\n"
          ],
          "name": "stdout"
        }
      ]
    },
    {
      "cell_type": "code",
      "metadata": {
        "id": "qV39ijSMHHPp",
        "colab_type": "code",
        "colab": {}
      },
      "source": [
        "import numpy as np\n",
        "import pandas as pd\n",
        "import matplotlib.pyplot as plt\n",
        "import matplotlib\n",
        "matplotlib.rcParams['figure.dpi']= 100\n",
        "matplotlib.rcParams['figure.figsize'] = 20, 10\n",
        "from statsmodels.tsa.seasonal import seasonal_decompose\n",
        "%matplotlib inline"
      ],
      "execution_count": 0,
      "outputs": []
    },
    {
      "cell_type": "code",
      "metadata": {
        "id": "JzBtCGT6H2jy",
        "colab_type": "code",
        "colab": {}
      },
      "source": [
        "drive_path = '/content/drive/My Drive/ai_talon/data-analysis/'"
      ],
      "execution_count": 0,
      "outputs": []
    },
    {
      "cell_type": "code",
      "metadata": {
        "id": "8Fl2v7UfHB46",
        "colab_type": "code",
        "colab": {}
      },
      "source": [
        "stock_data = pd.read_csv(drive_path + 'bavl_data.csv')"
      ],
      "execution_count": 0,
      "outputs": []
    },
    {
      "cell_type": "code",
      "metadata": {
        "id": "ZiVl6NwKHB5N",
        "colab_type": "code",
        "colab": {}
      },
      "source": [
        "ts_data = stock_data"
      ],
      "execution_count": 0,
      "outputs": []
    },
    {
      "cell_type": "code",
      "metadata": {
        "id": "17n_P9ZUHB5U",
        "colab_type": "code",
        "colab": {}
      },
      "source": [
        "ts_data['<DATE>'] = [pd.to_datetime(date, format='%dd%mm%yy', errors='ignore') for date in ts_data['<DATE>']]"
      ],
      "execution_count": 0,
      "outputs": []
    },
    {
      "cell_type": "code",
      "metadata": {
        "scrolled": false,
        "id": "575pDQZMHB5c",
        "colab_type": "code",
        "colab": {
          "base_uri": "https://localhost:8080/",
          "height": 197
        },
        "outputId": "98e46bcb-0d6e-46bc-9191-4e9b857732b3"
      },
      "source": [
        "[pd.to_datetime(date, format='%dd%mm%yy', errors='ignore') for date in ts_data['<DATE>']][:10]"
      ],
      "execution_count": 221,
      "outputs": [
        {
          "output_type": "execute_result",
          "data": {
            "text/plain": [
              "['25.03.2009',\n",
              " '26.03.2009',\n",
              " '27.03.2009',\n",
              " '30.03.2009',\n",
              " '01.04.2009',\n",
              " '02.04.2009',\n",
              " '03.04.2009',\n",
              " '06.04.2009',\n",
              " '07.04.2009',\n",
              " '08.04.2009']"
            ]
          },
          "metadata": {
            "tags": []
          },
          "execution_count": 221
        }
      ]
    },
    {
      "cell_type": "code",
      "metadata": {
        "id": "0hxv-WS6HB5l",
        "colab_type": "code",
        "colab": {}
      },
      "source": [
        "ts_data['<DATE>'] = pd.to_datetime(pd.Series(ts_data['<DATE>']), format=\"%d.%m.%Y\")"
      ],
      "execution_count": 0,
      "outputs": []
    },
    {
      "cell_type": "code",
      "metadata": {
        "id": "Fduc3w_fHB5r",
        "colab_type": "code",
        "colab": {
          "base_uri": "https://localhost:8080/",
          "height": 204
        },
        "outputId": "56191a58-168c-4f6d-bef5-7dea3fcdf48d"
      },
      "source": [
        "ts_data.head()"
      ],
      "execution_count": 223,
      "outputs": [
        {
          "output_type": "execute_result",
          "data": {
            "text/html": [
              "<div>\n",
              "<style scoped>\n",
              "    .dataframe tbody tr th:only-of-type {\n",
              "        vertical-align: middle;\n",
              "    }\n",
              "\n",
              "    .dataframe tbody tr th {\n",
              "        vertical-align: top;\n",
              "    }\n",
              "\n",
              "    .dataframe thead th {\n",
              "        text-align: right;\n",
              "    }\n",
              "</style>\n",
              "<table border=\"1\" class=\"dataframe\">\n",
              "  <thead>\n",
              "    <tr style=\"text-align: right;\">\n",
              "      <th></th>\n",
              "      <th>&lt;TICKER&gt;</th>\n",
              "      <th>&lt;PER&gt;</th>\n",
              "      <th>&lt;DATE&gt;</th>\n",
              "      <th>&lt;TIME&gt;</th>\n",
              "      <th>&lt;OPEN&gt;</th>\n",
              "      <th>&lt;HIGH&gt;</th>\n",
              "      <th>&lt;LOW&gt;</th>\n",
              "      <th>&lt;CLOSE&gt;</th>\n",
              "      <th>&lt;VOL&gt;</th>\n",
              "    </tr>\n",
              "  </thead>\n",
              "  <tbody>\n",
              "    <tr>\n",
              "      <th>0</th>\n",
              "      <td>BAVL</td>\n",
              "      <td>D</td>\n",
              "      <td>2009-03-25</td>\n",
              "      <td>10:00:00</td>\n",
              "      <td>0.0500</td>\n",
              "      <td>0.0500</td>\n",
              "      <td>0.0500</td>\n",
              "      <td>0.0500</td>\n",
              "      <td>40000</td>\n",
              "    </tr>\n",
              "    <tr>\n",
              "      <th>1</th>\n",
              "      <td>BAVL</td>\n",
              "      <td>D</td>\n",
              "      <td>2009-03-26</td>\n",
              "      <td>10:00:00</td>\n",
              "      <td>0.0804</td>\n",
              "      <td>0.0816</td>\n",
              "      <td>0.0790</td>\n",
              "      <td>0.0810</td>\n",
              "      <td>3870000</td>\n",
              "    </tr>\n",
              "    <tr>\n",
              "      <th>2</th>\n",
              "      <td>BAVL</td>\n",
              "      <td>D</td>\n",
              "      <td>2009-03-27</td>\n",
              "      <td>10:00:00</td>\n",
              "      <td>0.0805</td>\n",
              "      <td>0.0805</td>\n",
              "      <td>0.0790</td>\n",
              "      <td>0.0790</td>\n",
              "      <td>1070000</td>\n",
              "    </tr>\n",
              "    <tr>\n",
              "      <th>3</th>\n",
              "      <td>BAVL</td>\n",
              "      <td>D</td>\n",
              "      <td>2009-03-30</td>\n",
              "      <td>10:00:00</td>\n",
              "      <td>0.0785</td>\n",
              "      <td>0.0785</td>\n",
              "      <td>0.0785</td>\n",
              "      <td>0.0785</td>\n",
              "      <td>650000</td>\n",
              "    </tr>\n",
              "    <tr>\n",
              "      <th>4</th>\n",
              "      <td>BAVL</td>\n",
              "      <td>D</td>\n",
              "      <td>2009-04-01</td>\n",
              "      <td>10:00:00</td>\n",
              "      <td>0.0800</td>\n",
              "      <td>0.0810</td>\n",
              "      <td>0.0800</td>\n",
              "      <td>0.0810</td>\n",
              "      <td>790000</td>\n",
              "    </tr>\n",
              "  </tbody>\n",
              "</table>\n",
              "</div>"
            ],
            "text/plain": [
              "  <TICKER> <PER>     <DATE>    <TIME>  <OPEN>  <HIGH>   <LOW>  <CLOSE>    <VOL>\n",
              "0     BAVL     D 2009-03-25  10:00:00  0.0500  0.0500  0.0500   0.0500    40000\n",
              "1     BAVL     D 2009-03-26  10:00:00  0.0804  0.0816  0.0790   0.0810  3870000\n",
              "2     BAVL     D 2009-03-27  10:00:00  0.0805  0.0805  0.0790   0.0790  1070000\n",
              "3     BAVL     D 2009-03-30  10:00:00  0.0785  0.0785  0.0785   0.0785   650000\n",
              "4     BAVL     D 2009-04-01  10:00:00  0.0800  0.0810  0.0800   0.0810   790000"
            ]
          },
          "metadata": {
            "tags": []
          },
          "execution_count": 223
        }
      ]
    },
    {
      "cell_type": "code",
      "metadata": {
        "id": "RD_NpUWfg6XA",
        "colab_type": "code",
        "colab": {}
      },
      "source": [
        "## Computing Volatility\n",
        "# Load the required modules and packages\n",
        "import numpy as np\n",
        "import pandas as pd\n",
        "from statsmodels.tsa.stattools import adfuller"
      ],
      "execution_count": 0,
      "outputs": []
    },
    {
      "cell_type": "code",
      "metadata": {
        "id": "aJzd6EFWg9LZ",
        "colab_type": "code",
        "colab": {}
      },
      "source": [
        "\n",
        "# Compute the logarithmic returns using the Closing price \n",
        "ts_data['Log_Ret'] = np.log(ts_data['<CLOSE>'] / ts_data['<CLOSE>'].shift(1))\n"
      ],
      "execution_count": 0,
      "outputs": []
    },
    {
      "cell_type": "code",
      "metadata": {
        "id": "X7CRisdkiaac",
        "colab_type": "code",
        "colab": {
          "base_uri": "https://localhost:8080/",
          "height": 204
        },
        "outputId": "db8ce74a-124e-47d6-a12f-c87868a146b3"
      },
      "source": [
        "ts_data.head()"
      ],
      "execution_count": 226,
      "outputs": [
        {
          "output_type": "execute_result",
          "data": {
            "text/html": [
              "<div>\n",
              "<style scoped>\n",
              "    .dataframe tbody tr th:only-of-type {\n",
              "        vertical-align: middle;\n",
              "    }\n",
              "\n",
              "    .dataframe tbody tr th {\n",
              "        vertical-align: top;\n",
              "    }\n",
              "\n",
              "    .dataframe thead th {\n",
              "        text-align: right;\n",
              "    }\n",
              "</style>\n",
              "<table border=\"1\" class=\"dataframe\">\n",
              "  <thead>\n",
              "    <tr style=\"text-align: right;\">\n",
              "      <th></th>\n",
              "      <th>&lt;TICKER&gt;</th>\n",
              "      <th>&lt;PER&gt;</th>\n",
              "      <th>&lt;DATE&gt;</th>\n",
              "      <th>&lt;TIME&gt;</th>\n",
              "      <th>&lt;OPEN&gt;</th>\n",
              "      <th>&lt;HIGH&gt;</th>\n",
              "      <th>&lt;LOW&gt;</th>\n",
              "      <th>&lt;CLOSE&gt;</th>\n",
              "      <th>&lt;VOL&gt;</th>\n",
              "      <th>Log_Ret</th>\n",
              "    </tr>\n",
              "  </thead>\n",
              "  <tbody>\n",
              "    <tr>\n",
              "      <th>0</th>\n",
              "      <td>BAVL</td>\n",
              "      <td>D</td>\n",
              "      <td>2009-03-25</td>\n",
              "      <td>10:00:00</td>\n",
              "      <td>0.0500</td>\n",
              "      <td>0.0500</td>\n",
              "      <td>0.0500</td>\n",
              "      <td>0.0500</td>\n",
              "      <td>40000</td>\n",
              "      <td>NaN</td>\n",
              "    </tr>\n",
              "    <tr>\n",
              "      <th>1</th>\n",
              "      <td>BAVL</td>\n",
              "      <td>D</td>\n",
              "      <td>2009-03-26</td>\n",
              "      <td>10:00:00</td>\n",
              "      <td>0.0804</td>\n",
              "      <td>0.0816</td>\n",
              "      <td>0.0790</td>\n",
              "      <td>0.0810</td>\n",
              "      <td>3870000</td>\n",
              "      <td>0.482426</td>\n",
              "    </tr>\n",
              "    <tr>\n",
              "      <th>2</th>\n",
              "      <td>BAVL</td>\n",
              "      <td>D</td>\n",
              "      <td>2009-03-27</td>\n",
              "      <td>10:00:00</td>\n",
              "      <td>0.0805</td>\n",
              "      <td>0.0805</td>\n",
              "      <td>0.0790</td>\n",
              "      <td>0.0790</td>\n",
              "      <td>1070000</td>\n",
              "      <td>-0.025001</td>\n",
              "    </tr>\n",
              "    <tr>\n",
              "      <th>3</th>\n",
              "      <td>BAVL</td>\n",
              "      <td>D</td>\n",
              "      <td>2009-03-30</td>\n",
              "      <td>10:00:00</td>\n",
              "      <td>0.0785</td>\n",
              "      <td>0.0785</td>\n",
              "      <td>0.0785</td>\n",
              "      <td>0.0785</td>\n",
              "      <td>650000</td>\n",
              "      <td>-0.006349</td>\n",
              "    </tr>\n",
              "    <tr>\n",
              "      <th>4</th>\n",
              "      <td>BAVL</td>\n",
              "      <td>D</td>\n",
              "      <td>2009-04-01</td>\n",
              "      <td>10:00:00</td>\n",
              "      <td>0.0800</td>\n",
              "      <td>0.0810</td>\n",
              "      <td>0.0800</td>\n",
              "      <td>0.0810</td>\n",
              "      <td>790000</td>\n",
              "      <td>0.031351</td>\n",
              "    </tr>\n",
              "  </tbody>\n",
              "</table>\n",
              "</div>"
            ],
            "text/plain": [
              "  <TICKER> <PER>     <DATE>    <TIME>  ...   <LOW>  <CLOSE>    <VOL>   Log_Ret\n",
              "0     BAVL     D 2009-03-25  10:00:00  ...  0.0500   0.0500    40000       NaN\n",
              "1     BAVL     D 2009-03-26  10:00:00  ...  0.0790   0.0810  3870000  0.482426\n",
              "2     BAVL     D 2009-03-27  10:00:00  ...  0.0790   0.0790  1070000 -0.025001\n",
              "3     BAVL     D 2009-03-30  10:00:00  ...  0.0785   0.0785   650000 -0.006349\n",
              "4     BAVL     D 2009-04-01  10:00:00  ...  0.0800   0.0810   790000  0.031351\n",
              "\n",
              "[5 rows x 10 columns]"
            ]
          },
          "metadata": {
            "tags": []
          },
          "execution_count": 226
        }
      ]
    },
    {
      "cell_type": "code",
      "metadata": {
        "id": "_Ham0UcantxW",
        "colab_type": "code",
        "colab": {
          "base_uri": "https://localhost:8080/",
          "height": 1000
        },
        "outputId": "2d773da2-efeb-47b7-8ade-9f67e1c0a35c"
      },
      "source": [
        "ts_data[\"Log_Ret\"].rolling(20).apply(lambda x: pd.np.std(x))"
      ],
      "execution_count": 228,
      "outputs": [
        {
          "output_type": "stream",
          "text": [
            "/usr/local/lib/python3.6/dist-packages/ipykernel_launcher.py:1: FutureWarning: Currently, 'apply' passes the values as ndarrays to the applied function. In the future, this will change to passing it as Series objects. You need to specify 'raw=True' to keep the current behaviour, and you can pass 'raw=False' to silence this warning\n",
            "  \"\"\"Entry point for launching an IPython kernel.\n"
          ],
          "name": "stderr"
        },
        {
          "output_type": "execute_result",
          "data": {
            "text/plain": [
              "0            NaN\n",
              "1            NaN\n",
              "2            NaN\n",
              "3            NaN\n",
              "4            NaN\n",
              "5            NaN\n",
              "6            NaN\n",
              "7            NaN\n",
              "8            NaN\n",
              "9            NaN\n",
              "10           NaN\n",
              "11           NaN\n",
              "12           NaN\n",
              "13           NaN\n",
              "14           NaN\n",
              "15           NaN\n",
              "16           NaN\n",
              "17           NaN\n",
              "18           NaN\n",
              "19           NaN\n",
              "20      0.119821\n",
              "21      0.069503\n",
              "22      0.070651\n",
              "23      0.070816\n",
              "24      0.070803\n",
              "25      0.071849\n",
              "26      0.065844\n",
              "27      0.075676\n",
              "28      0.077320\n",
              "29      0.079727\n",
              "          ...   \n",
              "2235    0.011240\n",
              "2236    0.011343\n",
              "2237    0.011853\n",
              "2238    0.012119\n",
              "2239    0.012134\n",
              "2240    0.011910\n",
              "2241    0.011555\n",
              "2242    0.011715\n",
              "2243    0.013149\n",
              "2244    0.013047\n",
              "2245    0.013226\n",
              "2246    0.013194\n",
              "2247    0.013744\n",
              "2248    0.013718\n",
              "2249    0.018530\n",
              "2250    0.018628\n",
              "2251    0.024004\n",
              "2252    0.025479\n",
              "2253    0.025402\n",
              "2254    0.025360\n",
              "2255    0.025396\n",
              "2256    0.025229\n",
              "2257    0.025123\n",
              "2258    0.024952\n",
              "2259    0.030106\n",
              "2260    0.030114\n",
              "2261    0.030111\n",
              "2262    0.033980\n",
              "2263    0.035325\n",
              "2264    0.038372\n",
              "Name: Log_Ret, Length: 2265, dtype: float64"
            ]
          },
          "metadata": {
            "tags": []
          },
          "execution_count": 228
        }
      ]
    },
    {
      "cell_type": "code",
      "metadata": {
        "id": "G6re68qJiHr7",
        "colab_type": "code",
        "colab": {
          "base_uri": "https://localhost:8080/",
          "height": 790
        },
        "outputId": "15def11f-fca1-4802-fdf8-95844c47c714"
      },
      "source": [
        "# Compute Volatility using the pandas rolling standard deviation function - we choose rolling window of size 20\n",
        "ts_data[\"Volatility\"] = ts_data[\"Log_Ret\"].rolling(20).apply(lambda x: pd.np.std(x)) * np.sqrt(20)\n",
        "\n",
        "print(ts_data.tail(15))\n",
        "# Plot the Price series and the Volatility\n",
        "ts_data[['<CLOSE>', 'Volatility']].plot(subplots=True, color='blue',figsize=(8, 6))"
      ],
      "execution_count": 237,
      "outputs": [
        {
          "output_type": "stream",
          "text": [
            "     <TICKER> <PER>     <DATE>  ...    <VOL>   Log_Ret  Volatility\n",
            "2250     BAVL     D 2018-05-25  ...   470000 -0.026325    0.083307\n",
            "2251     BAVL     D 2018-05-29  ...   260000  0.064267    0.107349\n",
            "2252     BAVL     D 2018-05-30  ...   850000 -0.040967    0.113947\n",
            "2253     BAVL     D 2018-05-31  ...   880000  0.020693    0.113601\n",
            "2254     BAVL     D 2018-06-01  ...   310000 -0.001188    0.113414\n",
            "2255     BAVL     D 2018-06-04  ...    10000  0.010053    0.113575\n",
            "2256     BAVL     D 2018-06-05  ...   420000 -0.006197    0.112829\n",
            "2257     BAVL     D 2018-06-06  ...    10000  0.005903    0.112354\n",
            "2258     BAVL     D 2018-06-07  ...   430000 -0.010056    0.111587\n",
            "2259     BAVL     D 2018-06-08  ...  1160000 -0.080439    0.134636\n",
            "2260     BAVL     D 2018-06-11  ...  1160000 -0.003550    0.134672\n",
            "2261     BAVL     D 2018-06-12  ...   780000  0.007730    0.134658\n",
            "2262     BAVL     D 2018-06-13  ...  4000000 -0.079081    0.151965\n",
            "2263     BAVL     D 2018-06-14  ...   690000  0.038820    0.157979\n",
            "2264     BAVL     D 2018-06-15  ...  1210000  0.063097    0.171603\n",
            "\n",
            "[15 rows x 11 columns]\n"
          ],
          "name": "stdout"
        },
        {
          "output_type": "stream",
          "text": [
            "/usr/local/lib/python3.6/dist-packages/ipykernel_launcher.py:1: FutureWarning: Currently, 'apply' passes the values as ndarrays to the applied function. In the future, this will change to passing it as Series objects. You need to specify 'raw=True' to keep the current behaviour, and you can pass 'raw=False' to silence this warning\n",
            "  \"\"\"Entry point for launching an IPython kernel.\n"
          ],
          "name": "stderr"
        },
        {
          "output_type": "execute_result",
          "data": {
            "text/plain": [
              "array([<matplotlib.axes._subplots.AxesSubplot object at 0x7f12ca4eee80>,\n",
              "       <matplotlib.axes._subplots.AxesSubplot object at 0x7f12ca51a898>],\n",
              "      dtype=object)"
            ]
          },
          "metadata": {
            "tags": []
          },
          "execution_count": 237
        },
        {
          "output_type": "display_data",
          "data": {
            "image/png": "[encoded data removed]",
            "text/plain": [
              "<Figure size 576x432 with 2 Axes>"
            ]
          },
          "metadata": {
            "tags": []
          }
        }
      ]
    },
    {
      "cell_type": "code",
      "metadata": {
        "id": "8SaOUlsDHB6Q",
        "colab_type": "code",
        "colab": {
          "base_uri": "https://localhost:8080/",
          "height": 204
        },
        "outputId": "7910fe3c-a47b-4db1-feb5-e2912f4ec6d2"
      },
      "source": [
        "ts_data.tail()"
      ],
      "execution_count": 238,
      "outputs": [
        {
          "output_type": "execute_result",
          "data": {
            "text/html": [
              "<div>\n",
              "<style scoped>\n",
              "    .dataframe tbody tr th:only-of-type {\n",
              "        vertical-align: middle;\n",
              "    }\n",
              "\n",
              "    .dataframe tbody tr th {\n",
              "        vertical-align: top;\n",
              "    }\n",
              "\n",
              "    .dataframe thead th {\n",
              "        text-align: right;\n",
              "    }\n",
              "</style>\n",
              "<table border=\"1\" class=\"dataframe\">\n",
              "  <thead>\n",
              "    <tr style=\"text-align: right;\">\n",
              "      <th></th>\n",
              "      <th>&lt;TICKER&gt;</th>\n",
              "      <th>&lt;PER&gt;</th>\n",
              "      <th>&lt;DATE&gt;</th>\n",
              "      <th>&lt;TIME&gt;</th>\n",
              "      <th>&lt;OPEN&gt;</th>\n",
              "      <th>&lt;HIGH&gt;</th>\n",
              "      <th>&lt;LOW&gt;</th>\n",
              "      <th>&lt;CLOSE&gt;</th>\n",
              "      <th>&lt;VOL&gt;</th>\n",
              "      <th>Log_Ret</th>\n",
              "      <th>Volatility</th>\n",
              "    </tr>\n",
              "  </thead>\n",
              "  <tbody>\n",
              "    <tr>\n",
              "      <th>2260</th>\n",
              "      <td>BAVL</td>\n",
              "      <td>D</td>\n",
              "      <td>2018-06-11</td>\n",
              "      <td>10:00:00</td>\n",
              "      <td>0.3210</td>\n",
              "      <td>0.3210</td>\n",
              "      <td>0.3002</td>\n",
              "      <td>0.3093</td>\n",
              "      <td>1160000</td>\n",
              "      <td>-0.003550</td>\n",
              "      <td>0.134672</td>\n",
              "    </tr>\n",
              "    <tr>\n",
              "      <th>2261</th>\n",
              "      <td>BAVL</td>\n",
              "      <td>D</td>\n",
              "      <td>2018-06-12</td>\n",
              "      <td>10:00:00</td>\n",
              "      <td>0.3118</td>\n",
              "      <td>0.3118</td>\n",
              "      <td>0.3030</td>\n",
              "      <td>0.3117</td>\n",
              "      <td>780000</td>\n",
              "      <td>0.007730</td>\n",
              "      <td>0.134658</td>\n",
              "    </tr>\n",
              "    <tr>\n",
              "      <th>2262</th>\n",
              "      <td>BAVL</td>\n",
              "      <td>D</td>\n",
              "      <td>2018-06-13</td>\n",
              "      <td>10:00:00</td>\n",
              "      <td>0.3065</td>\n",
              "      <td>0.3087</td>\n",
              "      <td>0.2880</td>\n",
              "      <td>0.2880</td>\n",
              "      <td>4000000</td>\n",
              "      <td>-0.079081</td>\n",
              "      <td>0.151965</td>\n",
              "    </tr>\n",
              "    <tr>\n",
              "      <th>2263</th>\n",
              "      <td>BAVL</td>\n",
              "      <td>D</td>\n",
              "      <td>2018-06-14</td>\n",
              "      <td>10:00:00</td>\n",
              "      <td>0.2998</td>\n",
              "      <td>0.3025</td>\n",
              "      <td>0.2870</td>\n",
              "      <td>0.2994</td>\n",
              "      <td>690000</td>\n",
              "      <td>0.038820</td>\n",
              "      <td>0.157979</td>\n",
              "    </tr>\n",
              "    <tr>\n",
              "      <th>2264</th>\n",
              "      <td>BAVL</td>\n",
              "      <td>D</td>\n",
              "      <td>2018-06-15</td>\n",
              "      <td>10:00:00</td>\n",
              "      <td>0.2999</td>\n",
              "      <td>0.3189</td>\n",
              "      <td>0.2999</td>\n",
              "      <td>0.3189</td>\n",
              "      <td>1210000</td>\n",
              "      <td>0.063097</td>\n",
              "      <td>0.171603</td>\n",
              "    </tr>\n",
              "  </tbody>\n",
              "</table>\n",
              "</div>"
            ],
            "text/plain": [
              "     <TICKER> <PER>     <DATE>  ...    <VOL>   Log_Ret  Volatility\n",
              "2260     BAVL     D 2018-06-11  ...  1160000 -0.003550    0.134672\n",
              "2261     BAVL     D 2018-06-12  ...   780000  0.007730    0.134658\n",
              "2262     BAVL     D 2018-06-13  ...  4000000 -0.079081    0.151965\n",
              "2263     BAVL     D 2018-06-14  ...   690000  0.038820    0.157979\n",
              "2264     BAVL     D 2018-06-15  ...  1210000  0.063097    0.171603\n",
              "\n",
              "[5 rows x 11 columns]"
            ]
          },
          "metadata": {
            "tags": []
          },
          "execution_count": 238
        }
      ]
    },
    {
      "cell_type": "code",
      "metadata": {
        "id": "OuuLfMf4HB60",
        "colab_type": "code",
        "colab": {}
      },
      "source": [
        "# Now the sentiment "
      ],
      "execution_count": 0,
      "outputs": []
    },
    {
      "cell_type": "code",
      "metadata": {
        "id": "HZHa1AfHHB8U",
        "colab_type": "code",
        "colab": {
          "base_uri": "https://localhost:8080/",
          "height": 53
        },
        "outputId": "18ecde4e-f165-4956-9651-cc8cabbef08a"
      },
      "source": [
        "import sys\n",
        "!{sys.executable} -m pip install tokenize_uk"
      ],
      "execution_count": 240,
      "outputs": [
        {
          "output_type": "stream",
          "text": [
            "Requirement already satisfied: tokenize_uk in /usr/local/lib/python3.6/dist-packages (0.2.0)\n",
            "Requirement already satisfied: six in /usr/local/lib/python3.6/dist-packages (from tokenize_uk) (1.12.0)\n"
          ],
          "name": "stdout"
        }
      ]
    },
    {
      "cell_type": "code",
      "metadata": {
        "id": "1kAfOX_wHB8l",
        "colab_type": "code",
        "colab": {}
      },
      "source": [
        "news_data = pd.read_csv(drive_path + \"news_data.csv\", encoding='utf-8')"
      ],
      "execution_count": 0,
      "outputs": []
    },
    {
      "cell_type": "code",
      "metadata": {
        "id": "haVlBz70HB8r",
        "colab_type": "code",
        "colab": {
          "base_uri": "https://localhost:8080/",
          "height": 35
        },
        "outputId": "86950dda-d1e1-4102-a159-513309839242"
      },
      "source": [
        "import pandas as pd\n",
        "from tokenize_uk import tokenize_uk\n",
        "import io\n",
        "import numpy as np\n",
        "import pickle\n",
        "import torch\n",
        "from torch.utils.data import Dataset, DataLoader\n",
        "import random\n",
        "random.seed(0)\n",
        "torch.manual_seed(0)"
      ],
      "execution_count": 242,
      "outputs": [
        {
          "output_type": "execute_result",
          "data": {
            "text/plain": [
              "<torch._C.Generator at 0x7f131f9157d0>"
            ]
          },
          "metadata": {
            "tags": []
          },
          "execution_count": 242
        }
      ]
    },
    {
      "cell_type": "code",
      "metadata": {
        "id": "qn9-2h-sJESw",
        "colab_type": "code",
        "colab": {}
      },
      "source": [
        "news_data = pd.read_csv(drive_path + 'news_data.csv')"
      ],
      "execution_count": 0,
      "outputs": []
    },
    {
      "cell_type": "code",
      "metadata": {
        "id": "SgLeDovsJLuU",
        "colab_type": "code",
        "colab": {
          "base_uri": "https://localhost:8080/",
          "height": 306
        },
        "outputId": "6621c991-79f3-464b-b5cb-29a0a5410215"
      },
      "source": [
        "news_data.head()"
      ],
      "execution_count": 244,
      "outputs": [
        {
          "output_type": "execute_result",
          "data": {
            "text/html": [
              "<div>\n",
              "<style scoped>\n",
              "    .dataframe tbody tr th:only-of-type {\n",
              "        vertical-align: middle;\n",
              "    }\n",
              "\n",
              "    .dataframe tbody tr th {\n",
              "        vertical-align: top;\n",
              "    }\n",
              "\n",
              "    .dataframe thead th {\n",
              "        text-align: right;\n",
              "    }\n",
              "</style>\n",
              "<table border=\"1\" class=\"dataframe\">\n",
              "  <thead>\n",
              "    <tr style=\"text-align: right;\">\n",
              "      <th></th>\n",
              "      <th>Unnamed: 0</th>\n",
              "      <th>date</th>\n",
              "      <th>title</th>\n",
              "      <th>text</th>\n",
              "      <th>time</th>\n",
              "      <th>lang</th>\n",
              "    </tr>\n",
              "  </thead>\n",
              "  <tbody>\n",
              "    <tr>\n",
              "      <th>0</th>\n",
              "      <td>0</td>\n",
              "      <td>2009-08-10</td>\n",
              "      <td>Инвесторы прогнозируют дальнейший рост украинс...</td>\n",
              "      <td>\\nХотелось бы отметить один важный и необычный...</td>\n",
              "      <td>17:30:01</td>\n",
              "      <td>ru</td>\n",
              "    </tr>\n",
              "    <tr>\n",
              "      <th>1</th>\n",
              "      <td>1</td>\n",
              "      <td>2016-09-29</td>\n",
              "      <td>Стратегия на рынках капитала в ЦВЕ и других ре...</td>\n",
              "      <td>\\nНовая норма. Сохранение низких процентных ст...</td>\n",
              "      <td>17:40:00</td>\n",
              "      <td>ru</td>\n",
              "    </tr>\n",
              "    <tr>\n",
              "      <th>2</th>\n",
              "      <td>2</td>\n",
              "      <td>2017-08-19</td>\n",
              "      <td>Главное за неделю: изменения в валютное законо...</td>\n",
              "      <td>\\nПрогноз на выходные. Куда катится наличный д...</td>\n",
              "      <td>20:00:00</td>\n",
              "      <td>ru</td>\n",
              "    </tr>\n",
              "    <tr>\n",
              "      <th>3</th>\n",
              "      <td>3</td>\n",
              "      <td>2014-06-05</td>\n",
              "      <td>Всеукраинская акция Райффайзен Банка Аваль «Ве...</td>\n",
              "      <td>\\nОдесская областная дирекция Райффайзен Банка...</td>\n",
              "      <td>09:19:46</td>\n",
              "      <td>ru</td>\n",
              "    </tr>\n",
              "    <tr>\n",
              "      <th>4</th>\n",
              "      <td>4</td>\n",
              "      <td>2016-06-03</td>\n",
              "      <td>Райффайзен Банк Аваль — снова среди самых наде...</td>\n",
              "      <td>\\nРайффайзен Банк Аваль снова занял ведущие по...</td>\n",
              "      <td>20:48:00</td>\n",
              "      <td>ru</td>\n",
              "    </tr>\n",
              "  </tbody>\n",
              "</table>\n",
              "</div>"
            ],
            "text/plain": [
              "   Unnamed: 0        date  ...      time lang\n",
              "0           0  2009-08-10  ...  17:30:01   ru\n",
              "1           1  2016-09-29  ...  17:40:00   ru\n",
              "2           2  2017-08-19  ...  20:00:00   ru\n",
              "3           3  2014-06-05  ...  09:19:46   ru\n",
              "4           4  2016-06-03  ...  20:48:00   ru\n",
              "\n",
              "[5 rows x 6 columns]"
            ]
          },
          "metadata": {
            "tags": []
          },
          "execution_count": 244
        }
      ]
    },
    {
      "cell_type": "code",
      "metadata": {
        "id": "XVrnHjmaHB9l",
        "colab_type": "code",
        "colab": {}
      },
      "source": [
        "price_data = pd.read_csv(drive_path + \"timeseries_data.csv\")\n",
        "# all_data = pd.merge(price_data, news_data)"
      ],
      "execution_count": 0,
      "outputs": []
    },
    {
      "cell_type": "code",
      "metadata": {
        "id": "hkyDgudMHB9q",
        "colab_type": "code",
        "colab": {}
      },
      "source": [
        "import csv\n",
        "\n",
        "tone_dict_uk = {}\n",
        "\n",
        "with open(drive_path + 'tone-dict-uk.tsv') as tsvfile:\n",
        "  reader = csv.reader(tsvfile, delimiter='\\t')\n",
        "  for row in reader:\n",
        "  \n",
        "        tone_dict_uk[row[0]] = int(row[1])\n",
        "    \n",
        "tone_dict_ru = {}\n",
        "\n",
        "with open(drive_path + 'tone-dict-ru.csv') as csvfile:\n",
        "  reader = csv.reader(csvfile)\n",
        "  for row in reader:\n",
        "        try:  \n",
        "            tone_dict_ru[row[0]] = int(row[1])\n",
        "        except: \n",
        "            pass\n",
        "    "
      ],
      "execution_count": 0,
      "outputs": []
    },
    {
      "cell_type": "code",
      "metadata": {
        "id": "X9t7eQ9EHB9v",
        "colab_type": "code",
        "colab": {
          "base_uri": "https://localhost:8080/",
          "height": 35
        },
        "outputId": "ff8eb38b-0200-4e0a-dca3-903865b64a55"
      },
      "source": [
        "tone_dict_uk['мрія']\n"
      ],
      "execution_count": 247,
      "outputs": [
        {
          "output_type": "execute_result",
          "data": {
            "text/plain": [
              "1"
            ]
          },
          "metadata": {
            "tags": []
          },
          "execution_count": 247
        }
      ]
    },
    {
      "cell_type": "code",
      "metadata": {
        "id": "HBAzckwGHB9z",
        "colab_type": "code",
        "colab": {
          "base_uri": "https://localhost:8080/",
          "height": 35
        },
        "outputId": "d7a7cdd6-3c1a-4e7a-db89-55a4aae2be0d"
      },
      "source": [
        "tone_dict_ru['ужас']"
      ],
      "execution_count": 248,
      "outputs": [
        {
          "output_type": "execute_result",
          "data": {
            "text/plain": [
              "-5"
            ]
          },
          "metadata": {
            "tags": []
          },
          "execution_count": 248
        }
      ]
    },
    {
      "cell_type": "code",
      "metadata": {
        "id": "rijipxRvHB93",
        "colab_type": "code",
        "colab": {}
      },
      "source": [
        "data = pd.read_csv(drive_path + \"timeseries_data_df.csv\")"
      ],
      "execution_count": 0,
      "outputs": []
    },
    {
      "cell_type": "code",
      "metadata": {
        "id": "Bt8CKxuhHB97",
        "colab_type": "code",
        "colab": {
          "base_uri": "https://localhost:8080/",
          "height": 35
        },
        "outputId": "7216f46c-2950-4994-bb4f-dd936fba9fbc"
      },
      "source": [
        "news_data.loc[news_data.date == '2009-03-25']['text'].values[0][:20]"
      ],
      "execution_count": 250,
      "outputs": [
        {
          "output_type": "execute_result",
          "data": {
            "text/plain": [
              "'\\nПока даже заоблачны'"
            ]
          },
          "metadata": {
            "tags": []
          },
          "execution_count": 250
        }
      ]
    },
    {
      "cell_type": "markdown",
      "metadata": {
        "id": "4m1IBLTAcmAl",
        "colab_type": "text"
      },
      "source": [
        ""
      ]
    },
    {
      "cell_type": "code",
      "metadata": {
        "id": "Qu7B46P5HB-F",
        "colab_type": "code",
        "colab": {}
      },
      "source": [
        "data['article'] = [news_data.loc[news_data.date == curr_date].text for curr_date in data.date]"
      ],
      "execution_count": 0,
      "outputs": []
    },
    {
      "cell_type": "code",
      "metadata": {
        "id": "PZzNG99zHB-N",
        "colab_type": "code",
        "colab": {
          "base_uri": "https://localhost:8080/",
          "height": 204
        },
        "outputId": "ff6458bc-4e8c-4428-8590-3096570405c2"
      },
      "source": [
        "data.head()"
      ],
      "execution_count": 252,
      "outputs": [
        {
          "output_type": "execute_result",
          "data": {
            "text/html": [
              "<div>\n",
              "<style scoped>\n",
              "    .dataframe tbody tr th:only-of-type {\n",
              "        vertical-align: middle;\n",
              "    }\n",
              "\n",
              "    .dataframe tbody tr th {\n",
              "        vertical-align: top;\n",
              "    }\n",
              "\n",
              "    .dataframe thead th {\n",
              "        text-align: right;\n",
              "    }\n",
              "</style>\n",
              "<table border=\"1\" class=\"dataframe\">\n",
              "  <thead>\n",
              "    <tr style=\"text-align: right;\">\n",
              "      <th></th>\n",
              "      <th>date</th>\n",
              "      <th>price</th>\n",
              "      <th>article</th>\n",
              "    </tr>\n",
              "  </thead>\n",
              "  <tbody>\n",
              "    <tr>\n",
              "      <th>0</th>\n",
              "      <td>2009-03-25</td>\n",
              "      <td>0.0500</td>\n",
              "      <td>304    \\nПока даже заоблачные процентные ставк...</td>\n",
              "    </tr>\n",
              "    <tr>\n",
              "      <th>1</th>\n",
              "      <td>2009-03-26</td>\n",
              "      <td>0.0804</td>\n",
              "      <td>530     \\nФонд гарантирования вкладов определи...</td>\n",
              "    </tr>\n",
              "    <tr>\n",
              "      <th>2</th>\n",
              "      <td>2009-03-27</td>\n",
              "      <td>0.0805</td>\n",
              "      <td>1514    \\nФонд гарантирования вкладов определи...</td>\n",
              "    </tr>\n",
              "    <tr>\n",
              "      <th>3</th>\n",
              "      <td>2009-03-30</td>\n",
              "      <td>0.0785</td>\n",
              "      <td>Series([], Name: text, dtype: object)</td>\n",
              "    </tr>\n",
              "    <tr>\n",
              "      <th>4</th>\n",
              "      <td>2009-04-01</td>\n",
              "      <td>0.0800</td>\n",
              "      <td>324    \\nНациональный банк Украины предоставил...</td>\n",
              "    </tr>\n",
              "  </tbody>\n",
              "</table>\n",
              "</div>"
            ],
            "text/plain": [
              "         date   price                                            article\n",
              "0  2009-03-25  0.0500  304    \\nПока даже заоблачные процентные ставк...\n",
              "1  2009-03-26  0.0804  530     \\nФонд гарантирования вкладов определи...\n",
              "2  2009-03-27  0.0805  1514    \\nФонд гарантирования вкладов определи...\n",
              "3  2009-03-30  0.0785              Series([], Name: text, dtype: object)\n",
              "4  2009-04-01  0.0800  324    \\nНациональный банк Украины предоставил..."
            ]
          },
          "metadata": {
            "tags": []
          },
          "execution_count": 252
        }
      ]
    },
    {
      "cell_type": "code",
      "metadata": {
        "id": "dhtwSrT4HB-S",
        "colab_type": "code",
        "colab": {
          "base_uri": "https://localhost:8080/",
          "height": 204
        },
        "outputId": "e47ae1f4-460f-447e-dcb9-52c6d254cf4f"
      },
      "source": [
        "data.article = [article.values[0].lower() if article.values.any() else '' for article in data.article]\n",
        "data.article = [' '.join(list(map(lambda x : x.decode('utf-8'), tokenize(article.encode('utf-8'))))) if article else '' for article in data.article]\n",
        "data.head()\n",
        "\n",
        "\n"
      ],
      "execution_count": 253,
      "outputs": [
        {
          "output_type": "execute_result",
          "data": {
            "text/html": [
              "<div>\n",
              "<style scoped>\n",
              "    .dataframe tbody tr th:only-of-type {\n",
              "        vertical-align: middle;\n",
              "    }\n",
              "\n",
              "    .dataframe tbody tr th {\n",
              "        vertical-align: top;\n",
              "    }\n",
              "\n",
              "    .dataframe thead th {\n",
              "        text-align: right;\n",
              "    }\n",
              "</style>\n",
              "<table border=\"1\" class=\"dataframe\">\n",
              "  <thead>\n",
              "    <tr style=\"text-align: right;\">\n",
              "      <th></th>\n",
              "      <th>date</th>\n",
              "      <th>price</th>\n",
              "      <th>article</th>\n",
              "    </tr>\n",
              "  </thead>\n",
              "  <tbody>\n",
              "    <tr>\n",
              "      <th>0</th>\n",
              "      <td>2009-03-25</td>\n",
              "      <td>0.0500</td>\n",
              "      <td>пока даже заоблачные процентные ставки и лояль...</td>\n",
              "    </tr>\n",
              "    <tr>\n",
              "      <th>1</th>\n",
              "      <td>2009-03-26</td>\n",
              "      <td>0.0804</td>\n",
              "      <td>фонд гарантирования вкладов определил восемь б...</td>\n",
              "    </tr>\n",
              "    <tr>\n",
              "      <th>2</th>\n",
              "      <td>2009-03-27</td>\n",
              "      <td>0.0805</td>\n",
              "      <td>фонд гарантирования вкладов определил 8 банков...</td>\n",
              "    </tr>\n",
              "    <tr>\n",
              "      <th>3</th>\n",
              "      <td>2009-03-30</td>\n",
              "      <td>0.0785</td>\n",
              "      <td></td>\n",
              "    </tr>\n",
              "    <tr>\n",
              "      <th>4</th>\n",
              "      <td>2009-04-01</td>\n",
              "      <td>0.0800</td>\n",
              "      <td>национальный банк украины предоставил 1 млрд г...</td>\n",
              "    </tr>\n",
              "  </tbody>\n",
              "</table>\n",
              "</div>"
            ],
            "text/plain": [
              "         date   price                                            article\n",
              "0  2009-03-25  0.0500  пока даже заоблачные процентные ставки и лояль...\n",
              "1  2009-03-26  0.0804  фонд гарантирования вкладов определил восемь б...\n",
              "2  2009-03-27  0.0805  фонд гарантирования вкладов определил 8 банков...\n",
              "3  2009-03-30  0.0785                                                   \n",
              "4  2009-04-01  0.0800  национальный банк украины предоставил 1 млрд г..."
            ]
          },
          "metadata": {
            "tags": []
          },
          "execution_count": 253
        }
      ]
    },
    {
      "cell_type": "markdown",
      "metadata": {
        "id": "_STZlbJQcf3k",
        "colab_type": "text"
      },
      "source": [
        ""
      ]
    },
    {
      "cell_type": "code",
      "metadata": {
        "id": "nbXqOGUFHB-Z",
        "colab_type": "code",
        "colab": {}
      },
      "source": [
        "def get_sentiment_score(text, lang):\n",
        "    text_sentiment_sum = 0\n",
        "    for word in text.split(' '):\n",
        "\n",
        "        if lang == 'uk':\n",
        "            try:\n",
        "                text_sentiment_sum += int(tone_dict_uk[word])\n",
        "            except:\n",
        "                pass\n",
        "        if lang == 'ru':\n",
        "            try:\n",
        "                text_sentiment_sum += int(tone_dict_ru[word])\n",
        "            except:\n",
        "                pass\n",
        "                \n",
        "    return text_sentiment_sum / len(text.split(' '))"
      ],
      "execution_count": 0,
      "outputs": []
    },
    {
      "cell_type": "code",
      "metadata": {
        "id": "k3ECkMpnHB-g",
        "colab_type": "code",
        "colab": {
          "base_uri": "https://localhost:8080/",
          "height": 204
        },
        "outputId": "279719ff-e0b0-4765-c5a8-0bf628a2c4c1"
      },
      "source": [
        "data['lang'] = [news_data.loc[news_data.date == curr_date].lang for curr_date in data.date]\n",
        "data.lang = [lang.values[0] if lang.values.any() else '-' for lang in data.lang]\n",
        "data.head()"
      ],
      "execution_count": 255,
      "outputs": [
        {
          "output_type": "execute_result",
          "data": {
            "text/html": [
              "<div>\n",
              "<style scoped>\n",
              "    .dataframe tbody tr th:only-of-type {\n",
              "        vertical-align: middle;\n",
              "    }\n",
              "\n",
              "    .dataframe tbody tr th {\n",
              "        vertical-align: top;\n",
              "    }\n",
              "\n",
              "    .dataframe thead th {\n",
              "        text-align: right;\n",
              "    }\n",
              "</style>\n",
              "<table border=\"1\" class=\"dataframe\">\n",
              "  <thead>\n",
              "    <tr style=\"text-align: right;\">\n",
              "      <th></th>\n",
              "      <th>date</th>\n",
              "      <th>price</th>\n",
              "      <th>article</th>\n",
              "      <th>lang</th>\n",
              "    </tr>\n",
              "  </thead>\n",
              "  <tbody>\n",
              "    <tr>\n",
              "      <th>0</th>\n",
              "      <td>2009-03-25</td>\n",
              "      <td>0.0500</td>\n",
              "      <td>пока даже заоблачные процентные ставки и лояль...</td>\n",
              "      <td>ru</td>\n",
              "    </tr>\n",
              "    <tr>\n",
              "      <th>1</th>\n",
              "      <td>2009-03-26</td>\n",
              "      <td>0.0804</td>\n",
              "      <td>фонд гарантирования вкладов определил восемь б...</td>\n",
              "      <td>ru</td>\n",
              "    </tr>\n",
              "    <tr>\n",
              "      <th>2</th>\n",
              "      <td>2009-03-27</td>\n",
              "      <td>0.0805</td>\n",
              "      <td>фонд гарантирования вкладов определил 8 банков...</td>\n",
              "      <td>ru</td>\n",
              "    </tr>\n",
              "    <tr>\n",
              "      <th>3</th>\n",
              "      <td>2009-03-30</td>\n",
              "      <td>0.0785</td>\n",
              "      <td></td>\n",
              "      <td>-</td>\n",
              "    </tr>\n",
              "    <tr>\n",
              "      <th>4</th>\n",
              "      <td>2009-04-01</td>\n",
              "      <td>0.0800</td>\n",
              "      <td>национальный банк украины предоставил 1 млрд г...</td>\n",
              "      <td>ru</td>\n",
              "    </tr>\n",
              "  </tbody>\n",
              "</table>\n",
              "</div>"
            ],
            "text/plain": [
              "         date   price                                            article lang\n",
              "0  2009-03-25  0.0500  пока даже заоблачные процентные ставки и лояль...   ru\n",
              "1  2009-03-26  0.0804  фонд гарантирования вкладов определил восемь б...   ru\n",
              "2  2009-03-27  0.0805  фонд гарантирования вкладов определил 8 банков...   ru\n",
              "3  2009-03-30  0.0785                                                       -\n",
              "4  2009-04-01  0.0800  национальный банк украины предоставил 1 млрд г...   ru"
            ]
          },
          "metadata": {
            "tags": []
          },
          "execution_count": 255
        }
      ]
    },
    {
      "cell_type": "code",
      "metadata": {
        "id": "NQ0WwNHAHB-p",
        "colab_type": "code",
        "colab": {}
      },
      "source": [
        "data['sentiment_score'] = [get_sentiment_score(row[1].article, row[1].lang) for row in data.iterrows()]"
      ],
      "execution_count": 0,
      "outputs": []
    },
    {
      "cell_type": "code",
      "metadata": {
        "id": "emjxcr0wHB-v",
        "colab_type": "code",
        "colab": {
          "base_uri": "https://localhost:8080/",
          "height": 1000
        },
        "outputId": "e7f6a6c7-5e85-4227-e429-a736e928195a"
      },
      "source": [
        "data.loc[data['sentiment_score'] != 0]"
      ],
      "execution_count": 257,
      "outputs": [
        {
          "output_type": "execute_result",
          "data": {
            "text/html": [
              "<div>\n",
              "<style scoped>\n",
              "    .dataframe tbody tr th:only-of-type {\n",
              "        vertical-align: middle;\n",
              "    }\n",
              "\n",
              "    .dataframe tbody tr th {\n",
              "        vertical-align: top;\n",
              "    }\n",
              "\n",
              "    .dataframe thead th {\n",
              "        text-align: right;\n",
              "    }\n",
              "</style>\n",
              "<table border=\"1\" class=\"dataframe\">\n",
              "  <thead>\n",
              "    <tr style=\"text-align: right;\">\n",
              "      <th></th>\n",
              "      <th>date</th>\n",
              "      <th>price</th>\n",
              "      <th>article</th>\n",
              "      <th>lang</th>\n",
              "      <th>sentiment_score</th>\n",
              "    </tr>\n",
              "  </thead>\n",
              "  <tbody>\n",
              "    <tr>\n",
              "      <th>0</th>\n",
              "      <td>2009-03-25</td>\n",
              "      <td>0.0500</td>\n",
              "      <td>пока даже заоблачные процентные ставки и лояль...</td>\n",
              "      <td>ru</td>\n",
              "      <td>-0.002665</td>\n",
              "    </tr>\n",
              "    <tr>\n",
              "      <th>11</th>\n",
              "      <td>2009-04-10</td>\n",
              "      <td>0.1400</td>\n",
              "      <td>на кредитном рынке наметилась весенняя оттепел...</td>\n",
              "      <td>ru</td>\n",
              "      <td>0.002116</td>\n",
              "    </tr>\n",
              "    <tr>\n",
              "      <th>13</th>\n",
              "      <td>2009-04-14</td>\n",
              "      <td>0.1350</td>\n",
              "      <td>с начала кризиса отечественная банковская сист...</td>\n",
              "      <td>ru</td>\n",
              "      <td>0.002987</td>\n",
              "    </tr>\n",
              "    <tr>\n",
              "      <th>20</th>\n",
              "      <td>2009-04-24</td>\n",
              "      <td>0.1560</td>\n",
              "      <td>несколько отечественных компаний и банков не с...</td>\n",
              "      <td>ru</td>\n",
              "      <td>-0.005804</td>\n",
              "    </tr>\n",
              "    <tr>\n",
              "      <th>21</th>\n",
              "      <td>2009-04-27</td>\n",
              "      <td>0.1525</td>\n",
              "      <td>в украине осталось восемь стабильных банков . ...</td>\n",
              "      <td>ru</td>\n",
              "      <td>0.053476</td>\n",
              "    </tr>\n",
              "    <tr>\n",
              "      <th>31</th>\n",
              "      <td>2009-05-14</td>\n",
              "      <td>0.3000</td>\n",
              "      <td>австрийский raiffeisen international bank hold...</td>\n",
              "      <td>ru</td>\n",
              "      <td>0.125786</td>\n",
              "    </tr>\n",
              "    <tr>\n",
              "      <th>35</th>\n",
              "      <td>2009-05-20</td>\n",
              "      <td>0.4030</td>\n",
              "      <td>согласно оперативным данным , опубликованным н...</td>\n",
              "      <td>ru</td>\n",
              "      <td>0.011601</td>\n",
              "    </tr>\n",
              "    <tr>\n",
              "      <th>36</th>\n",
              "      <td>2009-05-21</td>\n",
              "      <td>0.4100</td>\n",
              "      <td>наиболее надежную позицию в украине имеют «доч...</td>\n",
              "      <td>ru</td>\n",
              "      <td>0.007267</td>\n",
              "    </tr>\n",
              "    <tr>\n",
              "      <th>37</th>\n",
              "      <td>2009-05-22</td>\n",
              "      <td>0.4100</td>\n",
              "      <td>данные деятельности 8 крупнейших банков страны...</td>\n",
              "      <td>ru</td>\n",
              "      <td>0.041528</td>\n",
              "    </tr>\n",
              "    <tr>\n",
              "      <th>38</th>\n",
              "      <td>2009-05-25</td>\n",
              "      <td>0.4020</td>\n",
              "      <td>нбу начал ликвидацию первого с начала кризиса ...</td>\n",
              "      <td>ru</td>\n",
              "      <td>-0.019841</td>\n",
              "    </tr>\n",
              "    <tr>\n",
              "      <th>40</th>\n",
              "      <td>2009-05-27</td>\n",
              "      <td>0.4200</td>\n",
              "      <td>в отличие от населения , которое в апреле этог...</td>\n",
              "      <td>ru</td>\n",
              "      <td>-0.005123</td>\n",
              "    </tr>\n",
              "    <tr>\n",
              "      <th>41</th>\n",
              "      <td>2009-05-28</td>\n",
              "      <td>0.3700</td>\n",
              "      <td>банкиры выступают против принятого верховной р...</td>\n",
              "      <td>ru</td>\n",
              "      <td>-0.015528</td>\n",
              "    </tr>\n",
              "    <tr>\n",
              "      <th>43</th>\n",
              "      <td>2009-06-01</td>\n",
              "      <td>0.4100</td>\n",
              "      <td>вкладчикам дали «зеленый свет» : депозиты из б...</td>\n",
              "      <td>ru</td>\n",
              "      <td>0.005708</td>\n",
              "    </tr>\n",
              "    <tr>\n",
              "      <th>46</th>\n",
              "      <td>2009-06-04</td>\n",
              "      <td>0.4000</td>\n",
              "      <td>основная проблема банковской системы — ухудшен...</td>\n",
              "      <td>ru</td>\n",
              "      <td>0.005033</td>\n",
              "    </tr>\n",
              "    <tr>\n",
              "      <th>51</th>\n",
              "      <td>2009-06-12</td>\n",
              "      <td>0.3475</td>\n",
              "      <td>иностранные фонды прямых инвестиций заявляют о...</td>\n",
              "      <td>ru</td>\n",
              "      <td>0.020161</td>\n",
              "    </tr>\n",
              "    <tr>\n",
              "      <th>55</th>\n",
              "      <td>2009-06-18</td>\n",
              "      <td>0.2700</td>\n",
              "      <td>фондовый рынок снижается , курс гривни стабили...</td>\n",
              "      <td>ru</td>\n",
              "      <td>0.009921</td>\n",
              "    </tr>\n",
              "    <tr>\n",
              "      <th>57</th>\n",
              "      <td>2009-06-22</td>\n",
              "      <td>0.2600</td>\n",
              "      <td>украинские фондовые рынки вторую неделю подряд...</td>\n",
              "      <td>ru</td>\n",
              "      <td>-0.027174</td>\n",
              "    </tr>\n",
              "    <tr>\n",
              "      <th>60</th>\n",
              "      <td>2009-06-25</td>\n",
              "      <td>0.2625</td>\n",
              "      <td>грозовые тучи начали сгущаться над отечественн...</td>\n",
              "      <td>ru</td>\n",
              "      <td>0.006234</td>\n",
              "    </tr>\n",
              "    <tr>\n",
              "      <th>63</th>\n",
              "      <td>2009-07-01</td>\n",
              "      <td>0.2920</td>\n",
              "      <td>начало нового месяца ознаменовалось более чем ...</td>\n",
              "      <td>ru</td>\n",
              "      <td>0.009470</td>\n",
              "    </tr>\n",
              "    <tr>\n",
              "      <th>64</th>\n",
              "      <td>2009-07-02</td>\n",
              "      <td>0.2961</td>\n",
              "      <td>гривневые вклады потеряли в доходности . больш...</td>\n",
              "      <td>ru</td>\n",
              "      <td>0.038860</td>\n",
              "    </tr>\n",
              "    <tr>\n",
              "      <th>66</th>\n",
              "      <td>2009-07-06</td>\n",
              "      <td>0.2700</td>\n",
              "      <td>прошедшую неделю можно назвать безрезультативн...</td>\n",
              "      <td>ru</td>\n",
              "      <td>0.004517</td>\n",
              "    </tr>\n",
              "    <tr>\n",
              "      <th>68</th>\n",
              "      <td>2009-07-08</td>\n",
              "      <td>0.2575</td>\n",
              "      <td>во вторник , 7 июля , индекс цен на акции на т...</td>\n",
              "      <td>ru</td>\n",
              "      <td>-0.016892</td>\n",
              "    </tr>\n",
              "    <tr>\n",
              "      <th>69</th>\n",
              "      <td>2009-07-09</td>\n",
              "      <td>0.2630</td>\n",
              "      <td>по состоянию на 13 : 30 индекс украинской бирж...</td>\n",
              "      <td>ru</td>\n",
              "      <td>-0.009398</td>\n",
              "    </tr>\n",
              "    <tr>\n",
              "      <th>72</th>\n",
              "      <td>2009-07-14</td>\n",
              "      <td>0.2720</td>\n",
              "      <td>в распоряжении журналистов оказались данные о ...</td>\n",
              "      <td>ru</td>\n",
              "      <td>0.011481</td>\n",
              "    </tr>\n",
              "    <tr>\n",
              "      <th>75</th>\n",
              "      <td>2009-07-17</td>\n",
              "      <td>0.2840</td>\n",
              "      <td>вчера нацбанк определил базовую ставку рефинан...</td>\n",
              "      <td>ru</td>\n",
              "      <td>-0.019084</td>\n",
              "    </tr>\n",
              "    <tr>\n",
              "      <th>76</th>\n",
              "      <td>2009-07-20</td>\n",
              "      <td>0.2900</td>\n",
              "      <td>по итогам первых пяти месяцев текущего года , ...</td>\n",
              "      <td>ru</td>\n",
              "      <td>0.011710</td>\n",
              "    </tr>\n",
              "    <tr>\n",
              "      <th>78</th>\n",
              "      <td>2009-07-22</td>\n",
              "      <td>0.3100</td>\n",
              "      <td>в силу мировых тенденций украинские площадки т...</td>\n",
              "      <td>ru</td>\n",
              "      <td>-0.008170</td>\n",
              "    </tr>\n",
              "    <tr>\n",
              "      <th>79</th>\n",
              "      <td>2009-07-23</td>\n",
              "      <td>0.3170</td>\n",
              "      <td>открытое акционерное общество «райффайзен банк...</td>\n",
              "      <td>ru</td>\n",
              "      <td>0.030488</td>\n",
              "    </tr>\n",
              "    <tr>\n",
              "      <th>80</th>\n",
              "      <td>2009-07-24</td>\n",
              "      <td>0.3150</td>\n",
              "      <td>ралли на мировых фондовых площадках продолжает...</td>\n",
              "      <td>ru</td>\n",
              "      <td>0.017241</td>\n",
              "    </tr>\n",
              "    <tr>\n",
              "      <th>81</th>\n",
              "      <td>2009-07-27</td>\n",
              "      <td>0.3175</td>\n",
              "      <td>среди 16 крупнейших финучреждений страны 11 за...</td>\n",
              "      <td>ru</td>\n",
              "      <td>0.013193</td>\n",
              "    </tr>\n",
              "    <tr>\n",
              "      <th>...</th>\n",
              "      <td>...</td>\n",
              "      <td>...</td>\n",
              "      <td>...</td>\n",
              "      <td>...</td>\n",
              "      <td>...</td>\n",
              "    </tr>\n",
              "    <tr>\n",
              "      <th>2217</th>\n",
              "      <td>2018-04-04</td>\n",
              "      <td>0.3427</td>\n",
              "      <td>за результатами щорічної благодійної акції до ...</td>\n",
              "      <td>uk</td>\n",
              "      <td>0.018072</td>\n",
              "    </tr>\n",
              "    <tr>\n",
              "      <th>2218</th>\n",
              "      <td>2018-04-05</td>\n",
              "      <td>0.3459</td>\n",
              "      <td>національний банк затвердив перелік банків , я...</td>\n",
              "      <td>uk</td>\n",
              "      <td>-0.002188</td>\n",
              "    </tr>\n",
              "    <tr>\n",
              "      <th>2219</th>\n",
              "      <td>2018-04-06</td>\n",
              "      <td>0.3469</td>\n",
              "      <td>харківська обласна дирекція райффайзен банку а...</td>\n",
              "      <td>uk</td>\n",
              "      <td>0.012579</td>\n",
              "    </tr>\n",
              "    <tr>\n",
              "      <th>2220</th>\n",
              "      <td>2018-04-10</td>\n",
              "      <td>0.3490</td>\n",
              "      <td>16 тренінгів «земельні питання» відбулися по в...</td>\n",
              "      <td>uk</td>\n",
              "      <td>0.025862</td>\n",
              "    </tr>\n",
              "    <tr>\n",
              "      <th>2223</th>\n",
              "      <td>2018-04-13</td>\n",
              "      <td>0.3574</td>\n",
              "      <td>за підтримки райффайзен банку аваль в україні ...</td>\n",
              "      <td>uk</td>\n",
              "      <td>0.004831</td>\n",
              "    </tr>\n",
              "    <tr>\n",
              "      <th>2224</th>\n",
              "      <td>2018-04-16</td>\n",
              "      <td>0.3648</td>\n",
              "      <td>міністерство фінансів україни ухвалило рішення...</td>\n",
              "      <td>uk</td>\n",
              "      <td>-0.012346</td>\n",
              "    </tr>\n",
              "    <tr>\n",
              "      <th>2225</th>\n",
              "      <td>2018-04-17</td>\n",
              "      <td>0.3660</td>\n",
              "      <td>райффайзен банк аваль пропонує своїм клієнтам ...</td>\n",
              "      <td>uk</td>\n",
              "      <td>0.011834</td>\n",
              "    </tr>\n",
              "    <tr>\n",
              "      <th>2226</th>\n",
              "      <td>2018-04-18</td>\n",
              "      <td>0.3719</td>\n",
              "      <td>сергій костогриз , начальник управління торгов...</td>\n",
              "      <td>uk</td>\n",
              "      <td>0.014218</td>\n",
              "    </tr>\n",
              "    <tr>\n",
              "      <th>2227</th>\n",
              "      <td>2018-04-19</td>\n",
              "      <td>0.3645</td>\n",
              "      <td>чотири роки потрясінь не пройшли даром для укр...</td>\n",
              "      <td>uk</td>\n",
              "      <td>-0.000457</td>\n",
              "    </tr>\n",
              "    <tr>\n",
              "      <th>2228</th>\n",
              "      <td>2018-04-20</td>\n",
              "      <td>0.3733</td>\n",
              "      <td>голова правління райффайзен банку аваль володи...</td>\n",
              "      <td>uk</td>\n",
              "      <td>0.019900</td>\n",
              "    </tr>\n",
              "    <tr>\n",
              "      <th>2231</th>\n",
              "      <td>2018-04-25</td>\n",
              "      <td>0.3591</td>\n",
              "      <td>компанія «фінансовий клуб» за результатами сво...</td>\n",
              "      <td>uk</td>\n",
              "      <td>0.028777</td>\n",
              "    </tr>\n",
              "    <tr>\n",
              "      <th>2232</th>\n",
              "      <td>2018-04-26</td>\n",
              "      <td>0.3579</td>\n",
              "      <td>райффайзен банк аваль провів робочу зустріч із...</td>\n",
              "      <td>uk</td>\n",
              "      <td>0.009434</td>\n",
              "    </tr>\n",
              "    <tr>\n",
              "      <th>2233</th>\n",
              "      <td>2018-04-27</td>\n",
              "      <td>0.3617</td>\n",
              "      <td>акціонери публічного акціонерного товариства «...</td>\n",
              "      <td>uk</td>\n",
              "      <td>0.006803</td>\n",
              "    </tr>\n",
              "    <tr>\n",
              "      <th>2237</th>\n",
              "      <td>2018-05-07</td>\n",
              "      <td>0.3582</td>\n",
              "      <td>міністерство фінансів визначило уповноважені б...</td>\n",
              "      <td>uk</td>\n",
              "      <td>-0.006803</td>\n",
              "    </tr>\n",
              "    <tr>\n",
              "      <th>2238</th>\n",
              "      <td>2018-05-08</td>\n",
              "      <td>0.3550</td>\n",
              "      <td>райффайзен банк аваль знову визначено уповнова...</td>\n",
              "      <td>uk</td>\n",
              "      <td>0.009302</td>\n",
              "    </tr>\n",
              "    <tr>\n",
              "      <th>2239</th>\n",
              "      <td>2018-05-10</td>\n",
              "      <td>0.3588</td>\n",
              "      <td>власників карток mastercard® від райффайзен ба...</td>\n",
              "      <td>uk</td>\n",
              "      <td>0.016807</td>\n",
              "    </tr>\n",
              "    <tr>\n",
              "      <th>2240</th>\n",
              "      <td>2018-05-11</td>\n",
              "      <td>0.3338</td>\n",
              "      <td>кожен квартал «мінфін» запитує у експертів , д...</td>\n",
              "      <td>uk</td>\n",
              "      <td>0.008097</td>\n",
              "    </tr>\n",
              "    <tr>\n",
              "      <th>2242</th>\n",
              "      <td>2018-05-15</td>\n",
              "      <td>0.3600</td>\n",
              "      <td>visa і райффайзен банк аваль анонсували сьогод...</td>\n",
              "      <td>uk</td>\n",
              "      <td>0.018717</td>\n",
              "    </tr>\n",
              "    <tr>\n",
              "      <th>2243</th>\n",
              "      <td>2018-05-16</td>\n",
              "      <td>0.3500</td>\n",
              "      <td>сьогодні в одесі , в межах запланованої серії ...</td>\n",
              "      <td>uk</td>\n",
              "      <td>0.008696</td>\n",
              "    </tr>\n",
              "    <tr>\n",
              "      <th>2245</th>\n",
              "      <td>2018-05-18</td>\n",
              "      <td>0.3410</td>\n",
              "      <td>співробітники херсонського операційного центру...</td>\n",
              "      <td>uk</td>\n",
              "      <td>0.015625</td>\n",
              "    </tr>\n",
              "    <tr>\n",
              "      <th>2248</th>\n",
              "      <td>2018-05-23</td>\n",
              "      <td>0.3470</td>\n",
              "      <td>міжнародна фінансова корпорація ( ifc , world ...</td>\n",
              "      <td>uk</td>\n",
              "      <td>0.007547</td>\n",
              "    </tr>\n",
              "    <tr>\n",
              "      <th>2249</th>\n",
              "      <td>2018-05-24</td>\n",
              "      <td>0.3575</td>\n",
              "      <td>райффайзен банк аваль спільно із торговим пред...</td>\n",
              "      <td>uk</td>\n",
              "      <td>0.021583</td>\n",
              "    </tr>\n",
              "    <tr>\n",
              "      <th>2250</th>\n",
              "      <td>2018-05-25</td>\n",
              "      <td>0.3184</td>\n",
              "      <td>райффайзен банк аваль запрошує ваших дітей та ...</td>\n",
              "      <td>uk</td>\n",
              "      <td>0.004329</td>\n",
              "    </tr>\n",
              "    <tr>\n",
              "      <th>2251</th>\n",
              "      <td>2018-05-29</td>\n",
              "      <td>0.3336</td>\n",
              "      <td>на звітно-виборчих зборах асоціації банків льв...</td>\n",
              "      <td>uk</td>\n",
              "      <td>0.007092</td>\n",
              "    </tr>\n",
              "    <tr>\n",
              "      <th>2253</th>\n",
              "      <td>2018-05-31</td>\n",
              "      <td>0.3252</td>\n",
              "      <td>райффайзен банк аваль виступив одним із головн...</td>\n",
              "      <td>uk</td>\n",
              "      <td>0.009091</td>\n",
              "    </tr>\n",
              "    <tr>\n",
              "      <th>2254</th>\n",
              "      <td>2018-06-01</td>\n",
              "      <td>0.3330</td>\n",
              "      <td>райффайзен банк аваль виступив головним партне...</td>\n",
              "      <td>uk</td>\n",
              "      <td>0.020101</td>\n",
              "    </tr>\n",
              "    <tr>\n",
              "      <th>2257</th>\n",
              "      <td>2018-06-06</td>\n",
              "      <td>0.3398</td>\n",
              "      <td>1 червня з нагоди святкування міжнародного дня...</td>\n",
              "      <td>uk</td>\n",
              "      <td>0.028455</td>\n",
              "    </tr>\n",
              "    <tr>\n",
              "      <th>2258</th>\n",
              "      <td>2018-06-07</td>\n",
              "      <td>0.3300</td>\n",
              "      <td>приток вкладів триває . за 4 місяці 2018 року ...</td>\n",
              "      <td>uk</td>\n",
              "      <td>-0.001642</td>\n",
              "    </tr>\n",
              "    <tr>\n",
              "      <th>2263</th>\n",
              "      <td>2018-06-14</td>\n",
              "      <td>0.2998</td>\n",
              "      <td>за даними нбу , на 1 травня на рахунках в укра...</td>\n",
              "      <td>uk</td>\n",
              "      <td>0.008865</td>\n",
              "    </tr>\n",
              "    <tr>\n",
              "      <th>2264</th>\n",
              "      <td>2018-06-15</td>\n",
              "      <td>0.2999</td>\n",
              "      <td>студенти української академії лідерства відвід...</td>\n",
              "      <td>uk</td>\n",
              "      <td>0.007299</td>\n",
              "    </tr>\n",
              "  </tbody>\n",
              "</table>\n",
              "<p>514 rows × 5 columns</p>\n",
              "</div>"
            ],
            "text/plain": [
              "            date   price  ... lang sentiment_score\n",
              "0     2009-03-25  0.0500  ...   ru       -0.002665\n",
              "11    2009-04-10  0.1400  ...   ru        0.002116\n",
              "13    2009-04-14  0.1350  ...   ru        0.002987\n",
              "20    2009-04-24  0.1560  ...   ru       -0.005804\n",
              "21    2009-04-27  0.1525  ...   ru        0.053476\n",
              "31    2009-05-14  0.3000  ...   ru        0.125786\n",
              "35    2009-05-20  0.4030  ...   ru        0.011601\n",
              "36    2009-05-21  0.4100  ...   ru        0.007267\n",
              "37    2009-05-22  0.4100  ...   ru        0.041528\n",
              "38    2009-05-25  0.4020  ...   ru       -0.019841\n",
              "40    2009-05-27  0.4200  ...   ru       -0.005123\n",
              "41    2009-05-28  0.3700  ...   ru       -0.015528\n",
              "43    2009-06-01  0.4100  ...   ru        0.005708\n",
              "46    2009-06-04  0.4000  ...   ru        0.005033\n",
              "51    2009-06-12  0.3475  ...   ru        0.020161\n",
              "55    2009-06-18  0.2700  ...   ru        0.009921\n",
              "57    2009-06-22  0.2600  ...   ru       -0.027174\n",
              "60    2009-06-25  0.2625  ...   ru        0.006234\n",
              "63    2009-07-01  0.2920  ...   ru        0.009470\n",
              "64    2009-07-02  0.2961  ...   ru        0.038860\n",
              "66    2009-07-06  0.2700  ...   ru        0.004517\n",
              "68    2009-07-08  0.2575  ...   ru       -0.016892\n",
              "69    2009-07-09  0.2630  ...   ru       -0.009398\n",
              "72    2009-07-14  0.2720  ...   ru        0.011481\n",
              "75    2009-07-17  0.2840  ...   ru       -0.019084\n",
              "76    2009-07-20  0.2900  ...   ru        0.011710\n",
              "78    2009-07-22  0.3100  ...   ru       -0.008170\n",
              "79    2009-07-23  0.3170  ...   ru        0.030488\n",
              "80    2009-07-24  0.3150  ...   ru        0.017241\n",
              "81    2009-07-27  0.3175  ...   ru        0.013193\n",
              "...          ...     ...  ...  ...             ...\n",
              "2217  2018-04-04  0.3427  ...   uk        0.018072\n",
              "2218  2018-04-05  0.3459  ...   uk       -0.002188\n",
              "2219  2018-04-06  0.3469  ...   uk        0.012579\n",
              "2220  2018-04-10  0.3490  ...   uk        0.025862\n",
              "2223  2018-04-13  0.3574  ...   uk        0.004831\n",
              "2224  2018-04-16  0.3648  ...   uk       -0.012346\n",
              "2225  2018-04-17  0.3660  ...   uk        0.011834\n",
              "2226  2018-04-18  0.3719  ...   uk        0.014218\n",
              "2227  2018-04-19  0.3645  ...   uk       -0.000457\n",
              "2228  2018-04-20  0.3733  ...   uk        0.019900\n",
              "2231  2018-04-25  0.3591  ...   uk        0.028777\n",
              "2232  2018-04-26  0.3579  ...   uk        0.009434\n",
              "2233  2018-04-27  0.3617  ...   uk        0.006803\n",
              "2237  2018-05-07  0.3582  ...   uk       -0.006803\n",
              "2238  2018-05-08  0.3550  ...   uk        0.009302\n",
              "2239  2018-05-10  0.3588  ...   uk        0.016807\n",
              "2240  2018-05-11  0.3338  ...   uk        0.008097\n",
              "2242  2018-05-15  0.3600  ...   uk        0.018717\n",
              "2243  2018-05-16  0.3500  ...   uk        0.008696\n",
              "2245  2018-05-18  0.3410  ...   uk        0.015625\n",
              "2248  2018-05-23  0.3470  ...   uk        0.007547\n",
              "2249  2018-05-24  0.3575  ...   uk        0.021583\n",
              "2250  2018-05-25  0.3184  ...   uk        0.004329\n",
              "2251  2018-05-29  0.3336  ...   uk        0.007092\n",
              "2253  2018-05-31  0.3252  ...   uk        0.009091\n",
              "2254  2018-06-01  0.3330  ...   uk        0.020101\n",
              "2257  2018-06-06  0.3398  ...   uk        0.028455\n",
              "2258  2018-06-07  0.3300  ...   uk       -0.001642\n",
              "2263  2018-06-14  0.2998  ...   uk        0.008865\n",
              "2264  2018-06-15  0.2999  ...   uk        0.007299\n",
              "\n",
              "[514 rows x 5 columns]"
            ]
          },
          "metadata": {
            "tags": []
          },
          "execution_count": 257
        }
      ]
    },
    {
      "cell_type": "code",
      "metadata": {
        "id": "fwZpTBOVpzL1",
        "colab_type": "code",
        "colab": {}
      },
      "source": [
        "# Compute Volatility of Sentiment"
      ],
      "execution_count": 0,
      "outputs": []
    },
    {
      "cell_type": "code",
      "metadata": {
        "id": "9PbmvEzwpzOj",
        "colab_type": "code",
        "colab": {}
      },
      "source": [
        "## Computing Volatility\n",
        "# Load the required modules and packages\n",
        "import numpy as np\n",
        "import pandas as pd\n"
      ],
      "execution_count": 0,
      "outputs": []
    },
    {
      "cell_type": "code",
      "metadata": {
        "id": "6u49kWmzpzRc",
        "colab_type": "code",
        "colab": {
          "base_uri": "https://localhost:8080/",
          "height": 89
        },
        "outputId": "3d49126a-db6e-441e-8e48-82f374fa7456"
      },
      "source": [
        "# Compute the logarithmic returns using the Sentiment score  \n",
        "data['Log_Ret'] = np.log(data['sentiment_score'] / data['sentiment_score'].shift(1))\n"
      ],
      "execution_count": 267,
      "outputs": [
        {
          "output_type": "stream",
          "text": [
            "/usr/local/lib/python3.6/dist-packages/ipykernel_launcher.py:1: RuntimeWarning: divide by zero encountered in log\n",
            "  \"\"\"Entry point for launching an IPython kernel.\n",
            "/usr/local/lib/python3.6/dist-packages/ipykernel_launcher.py:1: RuntimeWarning: invalid value encountered in log\n",
            "  \"\"\"Entry point for launching an IPython kernel.\n"
          ],
          "name": "stderr"
        }
      ]
    },
    {
      "cell_type": "code",
      "metadata": {
        "id": "lBgwmn70pzWE",
        "colab_type": "code",
        "colab": {
          "base_uri": "https://localhost:8080/",
          "height": 808
        },
        "outputId": "0d88b579-f55b-4e18-ee50-2d78e3238837"
      },
      "source": [
        "# Compute Volatility using the pandas rolling standard deviation function - we choose rolling window of size 20\n",
        "data[\"Volatility\"] = data[\"Log_Ret\"].rolling(2).apply(lambda x: pd.np.std(x)) * np.sqrt(2)\n",
        "\n",
        "print(data.tail(15))\n",
        "# Plot the Price series and the Volatility\n",
        "data[['price', 'sentiment_score', 'Volatility']].plot(subplots=True, color='blue',figsize=(8, 6))"
      ],
      "execution_count": 268,
      "outputs": [
        {
          "output_type": "stream",
          "text": [
            "            date   price  ...   Log_Ret Volatility\n",
            "2250  2018-05-25  0.3184  ... -1.606556   1.878979\n",
            "2251  2018-05-29  0.3336  ...  0.493658   1.485075\n",
            "2252  2018-05-30  0.3498  ...      -inf        NaN\n",
            "2253  2018-05-31  0.3252  ...       inf        NaN\n",
            "2254  2018-06-01  0.3330  ...  0.793470        NaN\n",
            "2255  2018-06-04  0.3399  ...      -inf        NaN\n",
            "2256  2018-06-05  0.3340  ...       NaN        NaN\n",
            "2257  2018-06-06  0.3398  ...       inf        NaN\n",
            "2258  2018-06-07  0.3300  ...       NaN        NaN\n",
            "2259  2018-06-08  0.3348  ...      -inf        NaN\n",
            "2260  2018-06-11  0.3210  ...       NaN        NaN\n",
            "2261  2018-06-12  0.3118  ...       NaN        NaN\n",
            "2262  2018-06-13  0.3065  ...       NaN        NaN\n",
            "2263  2018-06-14  0.2998  ...       inf        NaN\n",
            "2264  2018-06-15  0.2999  ... -0.194365        NaN\n",
            "\n",
            "[15 rows x 7 columns]\n"
          ],
          "name": "stdout"
        },
        {
          "output_type": "stream",
          "text": [
            "/usr/local/lib/python3.6/dist-packages/ipykernel_launcher.py:1: FutureWarning: Currently, 'apply' passes the values as ndarrays to the applied function. In the future, this will change to passing it as Series objects. You need to specify 'raw=True' to keep the current behaviour, and you can pass 'raw=False' to silence this warning\n",
            "  \"\"\"Entry point for launching an IPython kernel.\n"
          ],
          "name": "stderr"
        },
        {
          "output_type": "execute_result",
          "data": {
            "text/plain": [
              "array([<matplotlib.axes._subplots.AxesSubplot object at 0x7f12c9f53278>,\n",
              "       <matplotlib.axes._subplots.AxesSubplot object at 0x7f12c9e89128>,\n",
              "       <matplotlib.axes._subplots.AxesSubplot object at 0x7f12c9e2c588>],\n",
              "      dtype=object)"
            ]
          },
          "metadata": {
            "tags": []
          },
          "execution_count": 268
        },
        {
          "output_type": "display_data",
          "data": {
            "image/png": "[encoded data removed]",
            "text/plain": [
              "<Figure size 576x432 with 3 Axes>"
            ]
          },
          "metadata": {
            "tags": []
          }
        }
      ]
    },
    {
      "cell_type": "code",
      "metadata": {
        "id": "_moZ7lrTpzYx",
        "colab_type": "code",
        "colab": {}
      },
      "source": [
        "\n"
      ],
      "execution_count": 0,
      "outputs": []
    },
    {
      "cell_type": "markdown",
      "metadata": {
        "id": "JgLbuJ2KqsmM",
        "colab_type": "text"
      },
      "source": [
        "### We see that we don't have enough sentiment data for prediction.\n",
        "\n",
        "This might be because of the rus and ukr tone dictionaries we've used are not good enough\n",
        "\n",
        "It also is because the news data is quite sparse and not complete - we don't have news data for every day. \n",
        "\n",
        "And the third reason is that the news  itself are not positive / negative enough.\n",
        "\n",
        "This is also a result, now we see we need better data :) "
      ]
    },
    {
      "cell_type": "code",
      "metadata": {
        "id": "7Ap4XRJNpzUt",
        "colab_type": "code",
        "colab": {}
      },
      "source": [
        ""
      ],
      "execution_count": 0,
      "outputs": []
    },
    {
      "cell_type": "code",
      "metadata": {
        "id": "o5BCuPXWHCAA",
        "colab_type": "code",
        "colab": {
          "base_uri": "https://localhost:8080/",
          "height": 107
        },
        "outputId": "169cdefc-b34a-4252-9595-9b10b23dce4e"
      },
      "source": [
        "import sys\n",
        "!{sys.executable} -m pip install sklearn"
      ],
      "execution_count": 151,
      "outputs": [
        {
          "output_type": "stream",
          "text": [
            "Requirement already satisfied: sklearn in /usr/local/lib/python3.6/dist-packages (0.0)\n",
            "Requirement already satisfied: scikit-learn in /usr/local/lib/python3.6/dist-packages (from sklearn) (0.21.3)\n",
            "Requirement already satisfied: numpy>=1.11.0 in /usr/local/lib/python3.6/dist-packages (from scikit-learn->sklearn) (1.16.4)\n",
            "Requirement already satisfied: scipy>=0.17.0 in /usr/local/lib/python3.6/dist-packages (from scikit-learn->sklearn) (1.3.0)\n",
            "Requirement already satisfied: joblib>=0.11 in /usr/local/lib/python3.6/dist-packages (from scikit-learn->sklearn) (0.13.2)\n"
          ],
          "name": "stdout"
        }
      ]
    },
    {
      "cell_type": "code",
      "metadata": {
        "id": "j6JlPZAEHCAF",
        "colab_type": "code",
        "colab": {}
      },
      "source": [
        "from sklearn.model_selection import train_test_split\n",
        "from sklearn import svm"
      ],
      "execution_count": 0,
      "outputs": []
    },
    {
      "cell_type": "code",
      "metadata": {
        "id": "CCjItvg5rrtl",
        "colab_type": "code",
        "colab": {
          "base_uri": "https://localhost:8080/",
          "height": 204
        },
        "outputId": "3a0b0258-d29e-4b82-aa65-965c5073935d"
      },
      "source": [
        "data.tail()"
      ],
      "execution_count": 270,
      "outputs": [
        {
          "output_type": "execute_result",
          "data": {
            "text/html": [
              "<div>\n",
              "<style scoped>\n",
              "    .dataframe tbody tr th:only-of-type {\n",
              "        vertical-align: middle;\n",
              "    }\n",
              "\n",
              "    .dataframe tbody tr th {\n",
              "        vertical-align: top;\n",
              "    }\n",
              "\n",
              "    .dataframe thead th {\n",
              "        text-align: right;\n",
              "    }\n",
              "</style>\n",
              "<table border=\"1\" class=\"dataframe\">\n",
              "  <thead>\n",
              "    <tr style=\"text-align: right;\">\n",
              "      <th></th>\n",
              "      <th>date</th>\n",
              "      <th>price</th>\n",
              "      <th>article</th>\n",
              "      <th>lang</th>\n",
              "      <th>sentiment_score</th>\n",
              "      <th>Log_Ret</th>\n",
              "      <th>Volatility</th>\n",
              "    </tr>\n",
              "  </thead>\n",
              "  <tbody>\n",
              "    <tr>\n",
              "      <th>2260</th>\n",
              "      <td>2018-06-11</td>\n",
              "      <td>0.3210</td>\n",
              "      <td></td>\n",
              "      <td>-</td>\n",
              "      <td>0.000000</td>\n",
              "      <td>NaN</td>\n",
              "      <td>NaN</td>\n",
              "    </tr>\n",
              "    <tr>\n",
              "      <th>2261</th>\n",
              "      <td>2018-06-12</td>\n",
              "      <td>0.3118</td>\n",
              "      <td></td>\n",
              "      <td>-</td>\n",
              "      <td>0.000000</td>\n",
              "      <td>NaN</td>\n",
              "      <td>NaN</td>\n",
              "    </tr>\n",
              "    <tr>\n",
              "      <th>2262</th>\n",
              "      <td>2018-06-13</td>\n",
              "      <td>0.3065</td>\n",
              "      <td></td>\n",
              "      <td>-</td>\n",
              "      <td>0.000000</td>\n",
              "      <td>NaN</td>\n",
              "      <td>NaN</td>\n",
              "    </tr>\n",
              "    <tr>\n",
              "      <th>2263</th>\n",
              "      <td>2018-06-14</td>\n",
              "      <td>0.2998</td>\n",
              "      <td>за даними нбу , на 1 травня на рахунках в укра...</td>\n",
              "      <td>uk</td>\n",
              "      <td>0.008865</td>\n",
              "      <td>inf</td>\n",
              "      <td>NaN</td>\n",
              "    </tr>\n",
              "    <tr>\n",
              "      <th>2264</th>\n",
              "      <td>2018-06-15</td>\n",
              "      <td>0.2999</td>\n",
              "      <td>студенти української академії лідерства відвід...</td>\n",
              "      <td>uk</td>\n",
              "      <td>0.007299</td>\n",
              "      <td>-0.194365</td>\n",
              "      <td>NaN</td>\n",
              "    </tr>\n",
              "  </tbody>\n",
              "</table>\n",
              "</div>"
            ],
            "text/plain": [
              "            date   price  ...   Log_Ret Volatility\n",
              "2260  2018-06-11  0.3210  ...       NaN        NaN\n",
              "2261  2018-06-12  0.3118  ...       NaN        NaN\n",
              "2262  2018-06-13  0.3065  ...       NaN        NaN\n",
              "2263  2018-06-14  0.2998  ...       inf        NaN\n",
              "2264  2018-06-15  0.2999  ... -0.194365        NaN\n",
              "\n",
              "[5 rows x 7 columns]"
            ]
          },
          "metadata": {
            "tags": []
          },
          "execution_count": 270
        }
      ]
    },
    {
      "cell_type": "code",
      "metadata": {
        "id": "N87uKmblHCAS",
        "colab_type": "code",
        "colab": {
          "base_uri": "https://localhost:8080/",
          "height": 143
        },
        "outputId": "e419d0f4-9e78-43c2-eda9-7f68f2653ccc"
      },
      "source": [
        "X = data.copy()\n",
        "X = X.drop(['date', 'price', 'article', 'lang', 'Volatility', 'Log_Ret'], axis=1)\n",
        "y = data[['Volatility']]\n",
        "y = np.ravel(y)\n",
        "\n",
        "print(X.head())\n",
        "print(y)\n",
        "train_X, text_X, train_y, test_y = train_test_split(X, y, test_size=0.2, random_state=42)"
      ],
      "execution_count": 271,
      "outputs": [
        {
          "output_type": "stream",
          "text": [
            "   sentiment_score\n",
            "0        -0.002665\n",
            "1         0.000000\n",
            "2         0.000000\n",
            "3         0.000000\n",
            "4         0.000000\n",
            "[nan nan nan ... nan nan nan]\n"
          ],
          "name": "stdout"
        }
      ]
    },
    {
      "cell_type": "code",
      "metadata": {
        "id": "Perndzkkf-iE",
        "colab_type": "code",
        "colab": {}
      },
      "source": [
        "from sklearn.svm import SVR\n",
        "from sklearn.model_selection import cross_validate\n",
        "import math"
      ],
      "execution_count": 0,
      "outputs": []
    },
    {
      "cell_type": "code",
      "metadata": {
        "id": "KY0gRZ2EHCAX",
        "colab_type": "code",
        "colab": {
          "base_uri": "https://localhost:8080/",
          "height": 447
        },
        "outputId": "dc4428fa-1ae8-4c62-ce73-ee848b141596"
      },
      "source": [
        "best_params = {\n",
        "    \"C\": 100,\n",
        "    \"epsilon\": 5,\n",
        "}\n",
        "best_svr = SVR(kernel='linear', C=best_params[\"C\"], epsilon=best_params[\"epsilon\"], coef0=0.1, shrinking=True,\n",
        "               tol=0.001, cache_size=200, verbose=True, max_iter=10000)\n",
        "\n",
        "scoring = {\n",
        "           'abs_error': 'neg_mean_absolute_error',\n",
        "           'squared_error': 'neg_mean_squared_error'}\n",
        "\n",
        "scores = cross_validate(best_svr, X, y, cv=10, scoring=scoring, return_train_score=True)\n",
        "print(\"MAE :\", abs(scores['test_abs_error'].mean()), \"| RMSE :\", math.sqrt(abs(scores['test_squared_error'].mean())))\n",
        "\n",
        "best_svr.fit(train_X, train_y)\n",
        "pred=best_svr.predict(text_X)\n",
        "print(best_svr.score(text_X, test_y))\n",
        "from sklearn.metrics import r2_score\n",
        "print(r2_score(test_y, pred))"
      ],
      "execution_count": 273,
      "outputs": [
        {
          "output_type": "stream",
          "text": [
            "/usr/local/lib/python3.6/dist-packages/sklearn/model_selection/_validation.py:530: FutureWarning: From version 0.22, errors during fit will result in a cross validation score of NaN by default. Use error_score='raise' if you want an exception raised or error_score=np.nan to adopt the behavior from version 0.22.\n",
            "  FutureWarning)\n"
          ],
          "name": "stderr"
        },
        {
          "output_type": "error",
          "ename": "ValueError",
          "evalue": "ignored",
          "traceback": [
            "\u001b[0;31m---------------------------------------------------------------------------\u001b[0m",
            "\u001b[0;31mValueError\u001b[0m                                Traceback (most recent call last)",
            "\u001b[0;32m<ipython-input-273-d76e3989e6b8>\u001b[0m in \u001b[0;36m<module>\u001b[0;34m()\u001b[0m\n\u001b[1;32m     10\u001b[0m            'squared_error': 'neg_mean_squared_error'}\n\u001b[1;32m     11\u001b[0m \u001b[0;34m\u001b[0m\u001b[0m\n\u001b[0;32m---> 12\u001b[0;31m \u001b[0mscores\u001b[0m \u001b[0;34m=\u001b[0m \u001b[0mcross_validate\u001b[0m\u001b[0;34m(\u001b[0m\u001b[0mbest_svr\u001b[0m\u001b[0;34m,\u001b[0m \u001b[0mX\u001b[0m\u001b[0;34m,\u001b[0m \u001b[0my\u001b[0m\u001b[0;34m,\u001b[0m \u001b[0mcv\u001b[0m\u001b[0;34m=\u001b[0m\u001b[0;36m10\u001b[0m\u001b[0;34m,\u001b[0m \u001b[0mscoring\u001b[0m\u001b[0;34m=\u001b[0m\u001b[0mscoring\u001b[0m\u001b[0;34m,\u001b[0m \u001b[0mreturn_train_score\u001b[0m\u001b[0;34m=\u001b[0m\u001b[0;32mTrue\u001b[0m\u001b[0;34m)\u001b[0m\u001b[0;34m\u001b[0m\u001b[0;34m\u001b[0m\u001b[0m\n\u001b[0m\u001b[1;32m     13\u001b[0m \u001b[0mprint\u001b[0m\u001b[0;34m(\u001b[0m\u001b[0;34m\"MAE :\"\u001b[0m\u001b[0;34m,\u001b[0m \u001b[0mabs\u001b[0m\u001b[0;34m(\u001b[0m\u001b[0mscores\u001b[0m\u001b[0;34m[\u001b[0m\u001b[0;34m'test_abs_error'\u001b[0m\u001b[0;34m]\u001b[0m\u001b[0;34m.\u001b[0m\u001b[0mmean\u001b[0m\u001b[0;34m(\u001b[0m\u001b[0;34m)\u001b[0m\u001b[0;34m)\u001b[0m\u001b[0;34m,\u001b[0m \u001b[0;34m\"| RMSE :\"\u001b[0m\u001b[0;34m,\u001b[0m \u001b[0mmath\u001b[0m\u001b[0;34m.\u001b[0m\u001b[0msqrt\u001b[0m\u001b[0;34m(\u001b[0m\u001b[0mabs\u001b[0m\u001b[0;34m(\u001b[0m\u001b[0mscores\u001b[0m\u001b[0;34m[\u001b[0m\u001b[0;34m'test_squared_error'\u001b[0m\u001b[0;34m]\u001b[0m\u001b[0;34m.\u001b[0m\u001b[0mmean\u001b[0m\u001b[0;34m(\u001b[0m\u001b[0;34m)\u001b[0m\u001b[0;34m)\u001b[0m\u001b[0;34m)\u001b[0m\u001b[0;34m)\u001b[0m\u001b[0;34m\u001b[0m\u001b[0;34m\u001b[0m\u001b[0m\n\u001b[1;32m     14\u001b[0m \u001b[0;34m\u001b[0m\u001b[0m\n",
            "\u001b[0;32m/usr/local/lib/python3.6/dist-packages/sklearn/model_selection/_validation.py\u001b[0m in \u001b[0;36mcross_validate\u001b[0;34m(estimator, X, y, groups, scoring, cv, n_jobs, verbose, fit_params, pre_dispatch, return_train_score, return_estimator, error_score)\u001b[0m\n\u001b[1;32m    230\u001b[0m             \u001b[0mreturn_times\u001b[0m\u001b[0;34m=\u001b[0m\u001b[0;32mTrue\u001b[0m\u001b[0;34m,\u001b[0m \u001b[0mreturn_estimator\u001b[0m\u001b[0;34m=\u001b[0m\u001b[0mreturn_estimator\u001b[0m\u001b[0;34m,\u001b[0m\u001b[0;34m\u001b[0m\u001b[0;34m\u001b[0m\u001b[0m\n\u001b[1;32m    231\u001b[0m             error_score=error_score)\n\u001b[0;32m--> 232\u001b[0;31m         for train, test in cv.split(X, y, groups))\n\u001b[0m\u001b[1;32m    233\u001b[0m \u001b[0;34m\u001b[0m\u001b[0m\n\u001b[1;32m    234\u001b[0m     \u001b[0mzipped_scores\u001b[0m \u001b[0;34m=\u001b[0m \u001b[0mlist\u001b[0m\u001b[0;34m(\u001b[0m\u001b[0mzip\u001b[0m\u001b[0;34m(\u001b[0m\u001b[0;34m*\u001b[0m\u001b[0mscores\u001b[0m\u001b[0;34m)\u001b[0m\u001b[0;34m)\u001b[0m\u001b[0;34m\u001b[0m\u001b[0;34m\u001b[0m\u001b[0m\n",
            "\u001b[0;32m/usr/local/lib/python3.6/dist-packages/joblib/parallel.py\u001b[0m in \u001b[0;36m__call__\u001b[0;34m(self, iterable)\u001b[0m\n\u001b[1;32m    919\u001b[0m             \u001b[0;31m# remaining jobs.\u001b[0m\u001b[0;34m\u001b[0m\u001b[0;34m\u001b[0m\u001b[0;34m\u001b[0m\u001b[0m\n\u001b[1;32m    920\u001b[0m             \u001b[0mself\u001b[0m\u001b[0;34m.\u001b[0m\u001b[0m_iterating\u001b[0m \u001b[0;34m=\u001b[0m \u001b[0;32mFalse\u001b[0m\u001b[0;34m\u001b[0m\u001b[0;34m\u001b[0m\u001b[0m\n\u001b[0;32m--> 921\u001b[0;31m             \u001b[0;32mif\u001b[0m \u001b[0mself\u001b[0m\u001b[0;34m.\u001b[0m\u001b[0mdispatch_one_batch\u001b[0m\u001b[0;34m(\u001b[0m\u001b[0miterator\u001b[0m\u001b[0;34m)\u001b[0m\u001b[0;34m:\u001b[0m\u001b[0;34m\u001b[0m\u001b[0;34m\u001b[0m\u001b[0m\n\u001b[0m\u001b[1;32m    922\u001b[0m                 \u001b[0mself\u001b[0m\u001b[0;34m.\u001b[0m\u001b[0m_iterating\u001b[0m \u001b[0;34m=\u001b[0m \u001b[0mself\u001b[0m\u001b[0;34m.\u001b[0m\u001b[0m_original_iterator\u001b[0m \u001b[0;32mis\u001b[0m \u001b[0;32mnot\u001b[0m \u001b[0;32mNone\u001b[0m\u001b[0;34m\u001b[0m\u001b[0;34m\u001b[0m\u001b[0m\n\u001b[1;32m    923\u001b[0m \u001b[0;34m\u001b[0m\u001b[0m\n",
            "\u001b[0;32m/usr/local/lib/python3.6/dist-packages/joblib/parallel.py\u001b[0m in \u001b[0;36mdispatch_one_batch\u001b[0;34m(self, iterator)\u001b[0m\n\u001b[1;32m    757\u001b[0m                 \u001b[0;32mreturn\u001b[0m \u001b[0;32mFalse\u001b[0m\u001b[0;34m\u001b[0m\u001b[0;34m\u001b[0m\u001b[0m\n\u001b[1;32m    758\u001b[0m             \u001b[0;32melse\u001b[0m\u001b[0;34m:\u001b[0m\u001b[0;34m\u001b[0m\u001b[0;34m\u001b[0m\u001b[0m\n\u001b[0;32m--> 759\u001b[0;31m                 \u001b[0mself\u001b[0m\u001b[0;34m.\u001b[0m\u001b[0m_dispatch\u001b[0m\u001b[0;34m(\u001b[0m\u001b[0mtasks\u001b[0m\u001b[0;34m)\u001b[0m\u001b[0;34m\u001b[0m\u001b[0;34m\u001b[0m\u001b[0m\n\u001b[0m\u001b[1;32m    760\u001b[0m                 \u001b[0;32mreturn\u001b[0m \u001b[0;32mTrue\u001b[0m\u001b[0;34m\u001b[0m\u001b[0;34m\u001b[0m\u001b[0m\n\u001b[1;32m    761\u001b[0m \u001b[0;34m\u001b[0m\u001b[0m\n",
            "\u001b[0;32m/usr/local/lib/python3.6/dist-packages/joblib/parallel.py\u001b[0m in \u001b[0;36m_dispatch\u001b[0;34m(self, batch)\u001b[0m\n\u001b[1;32m    714\u001b[0m         \u001b[0;32mwith\u001b[0m \u001b[0mself\u001b[0m\u001b[0;34m.\u001b[0m\u001b[0m_lock\u001b[0m\u001b[0;34m:\u001b[0m\u001b[0;34m\u001b[0m\u001b[0;34m\u001b[0m\u001b[0m\n\u001b[1;32m    715\u001b[0m             \u001b[0mjob_idx\u001b[0m \u001b[0;34m=\u001b[0m \u001b[0mlen\u001b[0m\u001b[0;34m(\u001b[0m\u001b[0mself\u001b[0m\u001b[0;34m.\u001b[0m\u001b[0m_jobs\u001b[0m\u001b[0;34m)\u001b[0m\u001b[0;34m\u001b[0m\u001b[0;34m\u001b[0m\u001b[0m\n\u001b[0;32m--> 716\u001b[0;31m             \u001b[0mjob\u001b[0m \u001b[0;34m=\u001b[0m \u001b[0mself\u001b[0m\u001b[0;34m.\u001b[0m\u001b[0m_backend\u001b[0m\u001b[0;34m.\u001b[0m\u001b[0mapply_async\u001b[0m\u001b[0;34m(\u001b[0m\u001b[0mbatch\u001b[0m\u001b[0;34m,\u001b[0m \u001b[0mcallback\u001b[0m\u001b[0;34m=\u001b[0m\u001b[0mcb\u001b[0m\u001b[0;34m)\u001b[0m\u001b[0;34m\u001b[0m\u001b[0;34m\u001b[0m\u001b[0m\n\u001b[0m\u001b[1;32m    717\u001b[0m             \u001b[0;31m# A job can complete so quickly than its callback is\u001b[0m\u001b[0;34m\u001b[0m\u001b[0;34m\u001b[0m\u001b[0;34m\u001b[0m\u001b[0m\n\u001b[1;32m    718\u001b[0m             \u001b[0;31m# called before we get here, causing self._jobs to\u001b[0m\u001b[0;34m\u001b[0m\u001b[0;34m\u001b[0m\u001b[0;34m\u001b[0m\u001b[0m\n",
            "\u001b[0;32m/usr/local/lib/python3.6/dist-packages/joblib/_parallel_backends.py\u001b[0m in \u001b[0;36mapply_async\u001b[0;34m(self, func, callback)\u001b[0m\n\u001b[1;32m    180\u001b[0m     \u001b[0;32mdef\u001b[0m \u001b[0mapply_async\u001b[0m\u001b[0;34m(\u001b[0m\u001b[0mself\u001b[0m\u001b[0;34m,\u001b[0m \u001b[0mfunc\u001b[0m\u001b[0;34m,\u001b[0m \u001b[0mcallback\u001b[0m\u001b[0;34m=\u001b[0m\u001b[0;32mNone\u001b[0m\u001b[0;34m)\u001b[0m\u001b[0;34m:\u001b[0m\u001b[0;34m\u001b[0m\u001b[0;34m\u001b[0m\u001b[0m\n\u001b[1;32m    181\u001b[0m         \u001b[0;34m\"\"\"Schedule a func to be run\"\"\"\u001b[0m\u001b[0;34m\u001b[0m\u001b[0;34m\u001b[0m\u001b[0m\n\u001b[0;32m--> 182\u001b[0;31m         \u001b[0mresult\u001b[0m \u001b[0;34m=\u001b[0m \u001b[0mImmediateResult\u001b[0m\u001b[0;34m(\u001b[0m\u001b[0mfunc\u001b[0m\u001b[0;34m)\u001b[0m\u001b[0;34m\u001b[0m\u001b[0;34m\u001b[0m\u001b[0m\n\u001b[0m\u001b[1;32m    183\u001b[0m         \u001b[0;32mif\u001b[0m \u001b[0mcallback\u001b[0m\u001b[0;34m:\u001b[0m\u001b[0;34m\u001b[0m\u001b[0;34m\u001b[0m\u001b[0m\n\u001b[1;32m    184\u001b[0m             \u001b[0mcallback\u001b[0m\u001b[0;34m(\u001b[0m\u001b[0mresult\u001b[0m\u001b[0;34m)\u001b[0m\u001b[0;34m\u001b[0m\u001b[0;34m\u001b[0m\u001b[0m\n",
            "\u001b[0;32m/usr/local/lib/python3.6/dist-packages/joblib/_parallel_backends.py\u001b[0m in \u001b[0;36m__init__\u001b[0;34m(self, batch)\u001b[0m\n\u001b[1;32m    547\u001b[0m         \u001b[0;31m# Don't delay the application, to avoid keeping the input\u001b[0m\u001b[0;34m\u001b[0m\u001b[0;34m\u001b[0m\u001b[0;34m\u001b[0m\u001b[0m\n\u001b[1;32m    548\u001b[0m         \u001b[0;31m# arguments in memory\u001b[0m\u001b[0;34m\u001b[0m\u001b[0;34m\u001b[0m\u001b[0;34m\u001b[0m\u001b[0m\n\u001b[0;32m--> 549\u001b[0;31m         \u001b[0mself\u001b[0m\u001b[0;34m.\u001b[0m\u001b[0mresults\u001b[0m \u001b[0;34m=\u001b[0m \u001b[0mbatch\u001b[0m\u001b[0;34m(\u001b[0m\u001b[0;34m)\u001b[0m\u001b[0;34m\u001b[0m\u001b[0;34m\u001b[0m\u001b[0m\n\u001b[0m\u001b[1;32m    550\u001b[0m \u001b[0;34m\u001b[0m\u001b[0m\n\u001b[1;32m    551\u001b[0m     \u001b[0;32mdef\u001b[0m \u001b[0mget\u001b[0m\u001b[0;34m(\u001b[0m\u001b[0mself\u001b[0m\u001b[0;34m)\u001b[0m\u001b[0;34m:\u001b[0m\u001b[0;34m\u001b[0m\u001b[0;34m\u001b[0m\u001b[0m\n",
            "\u001b[0;32m/usr/local/lib/python3.6/dist-packages/joblib/parallel.py\u001b[0m in \u001b[0;36m__call__\u001b[0;34m(self)\u001b[0m\n\u001b[1;32m    223\u001b[0m         \u001b[0;32mwith\u001b[0m \u001b[0mparallel_backend\u001b[0m\u001b[0;34m(\u001b[0m\u001b[0mself\u001b[0m\u001b[0;34m.\u001b[0m\u001b[0m_backend\u001b[0m\u001b[0;34m,\u001b[0m \u001b[0mn_jobs\u001b[0m\u001b[0;34m=\u001b[0m\u001b[0mself\u001b[0m\u001b[0;34m.\u001b[0m\u001b[0m_n_jobs\u001b[0m\u001b[0;34m)\u001b[0m\u001b[0;34m:\u001b[0m\u001b[0;34m\u001b[0m\u001b[0;34m\u001b[0m\u001b[0m\n\u001b[1;32m    224\u001b[0m             return [func(*args, **kwargs)\n\u001b[0;32m--> 225\u001b[0;31m                     for func, args, kwargs in self.items]\n\u001b[0m\u001b[1;32m    226\u001b[0m \u001b[0;34m\u001b[0m\u001b[0m\n\u001b[1;32m    227\u001b[0m     \u001b[0;32mdef\u001b[0m \u001b[0m__len__\u001b[0m\u001b[0;34m(\u001b[0m\u001b[0mself\u001b[0m\u001b[0;34m)\u001b[0m\u001b[0;34m:\u001b[0m\u001b[0;34m\u001b[0m\u001b[0;34m\u001b[0m\u001b[0m\n",
            "\u001b[0;32m/usr/local/lib/python3.6/dist-packages/joblib/parallel.py\u001b[0m in \u001b[0;36m<listcomp>\u001b[0;34m(.0)\u001b[0m\n\u001b[1;32m    223\u001b[0m         \u001b[0;32mwith\u001b[0m \u001b[0mparallel_backend\u001b[0m\u001b[0;34m(\u001b[0m\u001b[0mself\u001b[0m\u001b[0;34m.\u001b[0m\u001b[0m_backend\u001b[0m\u001b[0;34m,\u001b[0m \u001b[0mn_jobs\u001b[0m\u001b[0;34m=\u001b[0m\u001b[0mself\u001b[0m\u001b[0;34m.\u001b[0m\u001b[0m_n_jobs\u001b[0m\u001b[0;34m)\u001b[0m\u001b[0;34m:\u001b[0m\u001b[0;34m\u001b[0m\u001b[0;34m\u001b[0m\u001b[0m\n\u001b[1;32m    224\u001b[0m             return [func(*args, **kwargs)\n\u001b[0;32m--> 225\u001b[0;31m                     for func, args, kwargs in self.items]\n\u001b[0m\u001b[1;32m    226\u001b[0m \u001b[0;34m\u001b[0m\u001b[0m\n\u001b[1;32m    227\u001b[0m     \u001b[0;32mdef\u001b[0m \u001b[0m__len__\u001b[0m\u001b[0;34m(\u001b[0m\u001b[0mself\u001b[0m\u001b[0;34m)\u001b[0m\u001b[0;34m:\u001b[0m\u001b[0;34m\u001b[0m\u001b[0;34m\u001b[0m\u001b[0m\n",
            "\u001b[0;32m/usr/local/lib/python3.6/dist-packages/sklearn/model_selection/_validation.py\u001b[0m in \u001b[0;36m_fit_and_score\u001b[0;34m(estimator, X, y, scorer, train, test, verbose, parameters, fit_params, return_train_score, return_parameters, return_n_test_samples, return_times, return_estimator, error_score)\u001b[0m\n\u001b[1;32m    514\u001b[0m             \u001b[0mestimator\u001b[0m\u001b[0;34m.\u001b[0m\u001b[0mfit\u001b[0m\u001b[0;34m(\u001b[0m\u001b[0mX_train\u001b[0m\u001b[0;34m,\u001b[0m \u001b[0;34m**\u001b[0m\u001b[0mfit_params\u001b[0m\u001b[0;34m)\u001b[0m\u001b[0;34m\u001b[0m\u001b[0;34m\u001b[0m\u001b[0m\n\u001b[1;32m    515\u001b[0m         \u001b[0;32melse\u001b[0m\u001b[0;34m:\u001b[0m\u001b[0;34m\u001b[0m\u001b[0;34m\u001b[0m\u001b[0m\n\u001b[0;32m--> 516\u001b[0;31m             \u001b[0mestimator\u001b[0m\u001b[0;34m.\u001b[0m\u001b[0mfit\u001b[0m\u001b[0;34m(\u001b[0m\u001b[0mX_train\u001b[0m\u001b[0;34m,\u001b[0m \u001b[0my_train\u001b[0m\u001b[0;34m,\u001b[0m \u001b[0;34m**\u001b[0m\u001b[0mfit_params\u001b[0m\u001b[0;34m)\u001b[0m\u001b[0;34m\u001b[0m\u001b[0;34m\u001b[0m\u001b[0m\n\u001b[0m\u001b[1;32m    517\u001b[0m \u001b[0;34m\u001b[0m\u001b[0m\n\u001b[1;32m    518\u001b[0m     \u001b[0;32mexcept\u001b[0m \u001b[0mException\u001b[0m \u001b[0;32mas\u001b[0m \u001b[0me\u001b[0m\u001b[0;34m:\u001b[0m\u001b[0;34m\u001b[0m\u001b[0;34m\u001b[0m\u001b[0m\n",
            "\u001b[0;32m/usr/local/lib/python3.6/dist-packages/sklearn/svm/base.py\u001b[0m in \u001b[0;36mfit\u001b[0;34m(self, X, y, sample_weight)\u001b[0m\n\u001b[1;32m    144\u001b[0m         X, y = check_X_y(X, y, dtype=np.float64,\n\u001b[1;32m    145\u001b[0m                          \u001b[0morder\u001b[0m\u001b[0;34m=\u001b[0m\u001b[0;34m'C'\u001b[0m\u001b[0;34m,\u001b[0m \u001b[0maccept_sparse\u001b[0m\u001b[0;34m=\u001b[0m\u001b[0;34m'csr'\u001b[0m\u001b[0;34m,\u001b[0m\u001b[0;34m\u001b[0m\u001b[0;34m\u001b[0m\u001b[0m\n\u001b[0;32m--> 146\u001b[0;31m                          accept_large_sparse=False)\n\u001b[0m\u001b[1;32m    147\u001b[0m         \u001b[0my\u001b[0m \u001b[0;34m=\u001b[0m \u001b[0mself\u001b[0m\u001b[0;34m.\u001b[0m\u001b[0m_validate_targets\u001b[0m\u001b[0;34m(\u001b[0m\u001b[0my\u001b[0m\u001b[0;34m)\u001b[0m\u001b[0;34m\u001b[0m\u001b[0;34m\u001b[0m\u001b[0m\n\u001b[1;32m    148\u001b[0m \u001b[0;34m\u001b[0m\u001b[0m\n",
            "\u001b[0;32m/usr/local/lib/python3.6/dist-packages/sklearn/utils/validation.py\u001b[0m in \u001b[0;36mcheck_X_y\u001b[0;34m(X, y, accept_sparse, accept_large_sparse, dtype, order, copy, force_all_finite, ensure_2d, allow_nd, multi_output, ensure_min_samples, ensure_min_features, y_numeric, warn_on_dtype, estimator)\u001b[0m\n\u001b[1;32m    723\u001b[0m     \u001b[0;32melse\u001b[0m\u001b[0;34m:\u001b[0m\u001b[0;34m\u001b[0m\u001b[0;34m\u001b[0m\u001b[0m\n\u001b[1;32m    724\u001b[0m         \u001b[0my\u001b[0m \u001b[0;34m=\u001b[0m \u001b[0mcolumn_or_1d\u001b[0m\u001b[0;34m(\u001b[0m\u001b[0my\u001b[0m\u001b[0;34m,\u001b[0m \u001b[0mwarn\u001b[0m\u001b[0;34m=\u001b[0m\u001b[0;32mTrue\u001b[0m\u001b[0;34m)\u001b[0m\u001b[0;34m\u001b[0m\u001b[0;34m\u001b[0m\u001b[0m\n\u001b[0;32m--> 725\u001b[0;31m         \u001b[0m_assert_all_finite\u001b[0m\u001b[0;34m(\u001b[0m\u001b[0my\u001b[0m\u001b[0;34m)\u001b[0m\u001b[0;34m\u001b[0m\u001b[0;34m\u001b[0m\u001b[0m\n\u001b[0m\u001b[1;32m    726\u001b[0m     \u001b[0;32mif\u001b[0m \u001b[0my_numeric\u001b[0m \u001b[0;32mand\u001b[0m \u001b[0my\u001b[0m\u001b[0;34m.\u001b[0m\u001b[0mdtype\u001b[0m\u001b[0;34m.\u001b[0m\u001b[0mkind\u001b[0m \u001b[0;34m==\u001b[0m \u001b[0;34m'O'\u001b[0m\u001b[0;34m:\u001b[0m\u001b[0;34m\u001b[0m\u001b[0;34m\u001b[0m\u001b[0m\n\u001b[1;32m    727\u001b[0m         \u001b[0my\u001b[0m \u001b[0;34m=\u001b[0m \u001b[0my\u001b[0m\u001b[0;34m.\u001b[0m\u001b[0mastype\u001b[0m\u001b[0;34m(\u001b[0m\u001b[0mnp\u001b[0m\u001b[0;34m.\u001b[0m\u001b[0mfloat64\u001b[0m\u001b[0;34m)\u001b[0m\u001b[0;34m\u001b[0m\u001b[0;34m\u001b[0m\u001b[0m\n",
            "\u001b[0;32m/usr/local/lib/python3.6/dist-packages/sklearn/utils/validation.py\u001b[0m in \u001b[0;36m_assert_all_finite\u001b[0;34m(X, allow_nan)\u001b[0m\n\u001b[1;32m     54\u001b[0m                 not allow_nan and not np.isfinite(X).all()):\n\u001b[1;32m     55\u001b[0m             \u001b[0mtype_err\u001b[0m \u001b[0;34m=\u001b[0m \u001b[0;34m'infinity'\u001b[0m \u001b[0;32mif\u001b[0m \u001b[0mallow_nan\u001b[0m \u001b[0;32melse\u001b[0m \u001b[0;34m'NaN, infinity'\u001b[0m\u001b[0;34m\u001b[0m\u001b[0;34m\u001b[0m\u001b[0m\n\u001b[0;32m---> 56\u001b[0;31m             \u001b[0;32mraise\u001b[0m \u001b[0mValueError\u001b[0m\u001b[0;34m(\u001b[0m\u001b[0mmsg_err\u001b[0m\u001b[0;34m.\u001b[0m\u001b[0mformat\u001b[0m\u001b[0;34m(\u001b[0m\u001b[0mtype_err\u001b[0m\u001b[0;34m,\u001b[0m \u001b[0mX\u001b[0m\u001b[0;34m.\u001b[0m\u001b[0mdtype\u001b[0m\u001b[0;34m)\u001b[0m\u001b[0;34m)\u001b[0m\u001b[0;34m\u001b[0m\u001b[0;34m\u001b[0m\u001b[0m\n\u001b[0m\u001b[1;32m     57\u001b[0m     \u001b[0;31m# for object dtype data, we only check for NaNs (GH-13254)\u001b[0m\u001b[0;34m\u001b[0m\u001b[0;34m\u001b[0m\u001b[0;34m\u001b[0m\u001b[0m\n\u001b[1;32m     58\u001b[0m     \u001b[0;32melif\u001b[0m \u001b[0mX\u001b[0m\u001b[0;34m.\u001b[0m\u001b[0mdtype\u001b[0m \u001b[0;34m==\u001b[0m \u001b[0mnp\u001b[0m\u001b[0;34m.\u001b[0m\u001b[0mdtype\u001b[0m\u001b[0;34m(\u001b[0m\u001b[0;34m'object'\u001b[0m\u001b[0;34m)\u001b[0m \u001b[0;32mand\u001b[0m \u001b[0;32mnot\u001b[0m \u001b[0mallow_nan\u001b[0m\u001b[0;34m:\u001b[0m\u001b[0;34m\u001b[0m\u001b[0;34m\u001b[0m\u001b[0m\n",
            "\u001b[0;31mValueError\u001b[0m: Input contains NaN, infinity or a value too large for dtype('float64')."
          ]
        }
      ]
    },
    {
      "cell_type": "markdown",
      "metadata": {
        "id": "bLd0ZeBDHCAb",
        "colab_type": "text"
      },
      "source": [
        "Model does not perform well :) :("
      ]
    },
    {
      "cell_type": "code",
      "metadata": {
        "id": "1qwVIA8GHCAc",
        "colab_type": "code",
        "colab": {}
      },
      "source": [
        ""
      ],
      "execution_count": 0,
      "outputs": []
    }
  ]
}